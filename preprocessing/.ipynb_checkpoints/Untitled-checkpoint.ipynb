{
 "cells": [
  {
   "cell_type": "markdown",
   "id": "90e15fe0-878c-439b-9036-319d02a69f6f",
   "metadata": {},
   "source": [
    "# Install needed libraries"
   ]
  },
  {
   "cell_type": "markdown",
   "id": "01e29b0d-a1fd-4350-aa7d-ae9cab53c7e7",
   "metadata": {},
   "source": [
    "Many bioinformatics related R packages are available at Bioconductor, so we will just use that to install. \n",
    "BioconductorManager can also download from CRAN if the library is not a Bioconductor library"
   ]
  },
  {
   "cell_type": "code",
   "execution_count": 107,
   "id": "1c885c9b-20d9-468a-a0ff-79e28230620b",
   "metadata": {},
   "outputs": [],
   "source": [
    "## Install some required packages\n",
    "if (!requireNamespace(\"BiocManager\", quietly = TRUE))\n",
    "  install.packages(\"BiocManager\")\n",
    "\n",
    "\n",
    "requiredPackages <- c(\"rtracklayer\",\"EnrichedHeatmap\",\"argparse\",\"ggsci\",\n",
    "                      \"BSgenome.Mmusculus.UCSC.mm10\",\"readr\",\"ggplot2\",\"furrr\",\n",
    "                      \"circlize\",\"glue\",'tidyverse',\"genomation\",'logger')\n",
    "\n",
    "for(pkg in requiredPackages){\n",
    "  if( !is.element(pkg, .packages(all.available = TRUE)) ) {\n",
    "    message(paste0(pkg,\" missing, installing it ...\"))\n",
    "    BiocManager::install(pkg)\n",
    "  }\n",
    "}\n",
    "\n",
    "suppressPackageStartupMessages(require('logger'))\n",
    "options(readr.num_columns = 0)"
   ]
  },
  {
   "cell_type": "code",
   "execution_count": 2,
   "id": "a21abbce-fd64-4279-a9da-a47188414c6b",
   "metadata": {
    "tags": []
   },
   "outputs": [
    {
     "name": "stderr",
     "output_type": "stream",
     "text": [
      "Warning message:\n",
      "“package ‘GenomicRanges’ was built under R version 4.0.3”\n",
      "Warning message:\n",
      "“package ‘BiocGenerics’ was built under R version 4.0.3”\n",
      "Warning message:\n",
      "“package ‘S4Vectors’ was built under R version 4.0.3”\n",
      "Warning message:\n",
      "“package ‘IRanges’ was built under R version 4.0.3”\n",
      "Warning message:\n",
      "“package ‘GenomeInfoDb’ was built under R version 4.0.3”\n",
      "Warning message:\n",
      "“package ‘ComplexHeatmap’ was built under R version 4.0.3”\n",
      "Warning message:\n",
      "“package ‘XVector’ was built under R version 4.0.3”\n",
      "Warning message:\n",
      "“package ‘circlize’ was built under R version 4.0.3”\n",
      "Warning message:\n",
      "“package ‘glue’ was built under R version 4.0.3”\n",
      "Warning message:\n",
      "“package ‘tidyr’ was built under R version 4.0.3”\n",
      "Warning message:\n",
      "“package ‘readr’ was built under R version 4.0.3”\n",
      "Warning message:\n",
      "“package ‘forcats’ was built under R version 4.0.3”\n"
     ]
    }
   ],
   "source": [
    "log_info(\"Loading packages ...\")\n",
    "## Load required packages\n",
    "for(pkg in requiredPackages){\n",
    "  suppressPackageStartupMessages(require(pkg,character.only = TRUE))\n",
    "}"
   ]
  },
  {
   "cell_type": "markdown",
   "id": "e6f35086-a16a-41da-a044-48c537a8aeb9",
   "metadata": {},
   "source": [
    "# Download a toy example"
   ]
  },
  {
   "cell_type": "markdown",
   "id": "90689928-cf52-496d-8c5a-91c2ced33aff",
   "metadata": {},
   "source": [
    "We will download data from this study: https://www.ncbi.nlm.nih.gov/geo/query/acc.cgi?acc=GSE169534\n",
    "Here we have some ATAC-seq data, that tell us what the open chromatin regions in the genome in the immortalized mouse embryonic fibroblasts."
   ]
  },
  {
   "cell_type": "markdown",
   "id": "94a4adcb-e10c-45f0-ab18-887720e19d15",
   "metadata": {},
   "source": [
    "![ATACseq](img/ATACseq.png)"
   ]
  },
  {
   "cell_type": "markdown",
   "id": "56733eb5-cb9c-46d9-a016-7f7bb927412a",
   "metadata": {},
   "source": [
    "We download the data"
   ]
  },
  {
   "cell_type": "code",
   "execution_count": 40,
   "id": "5b059eaf-781f-449a-a081-608d565f9e32",
   "metadata": {},
   "outputs": [],
   "source": [
    "system(\"wget https://ftp.ncbi.nlm.nih.gov/geo/samples/GSM5208nnn/GSM5208935/suppl/GSM5208935_ATAC_C2_replicate_1.bw -P ../raw_data/\")\n",
    "system(\"wget https://ftp.ncbi.nlm.nih.gov/geo/samples/GSM5208nnn/GSM5208938/suppl/GSM5208938_ATAC_C2_replicate_2.bw -P ../raw_data/\")\n",
    "system(\"wget https://ftp.ncbi.nlm.nih.gov/geo/series/GSE169nnn/GSE169534/suppl/GSE169534_SEACR-ATACseq-C2-Ezh2KO-peaks.bed.gz -P ../raw_data/\")\n",
    "system(\"wget https://raw.githubusercontent.com/sirusb/HMMDomainCaller/master/mm10-blacklist.v2.bed -P ../raw_data/\")"
   ]
  },
  {
   "cell_type": "code",
   "execution_count": 41,
   "id": "6840a5a8-435b-4cb4-b669-c8dc163c9040",
   "metadata": {},
   "outputs": [
    {
     "data": {
      "text/html": [
       "<style>\n",
       ".list-inline {list-style: none; margin:0; padding: 0}\n",
       ".list-inline>li {display: inline-block}\n",
       ".list-inline>li:not(:last-child)::after {content: \"\\00b7\"; padding: 0 .5ex}\n",
       "</style>\n",
       "<ol class=list-inline><li>'../raw_data//GSE169534_SEACR-ATACseq-C2-Ezh2KO-peaks.bed'</li><li>'../raw_data//GSE169534_SEACR-ATACseq-C2-Ezh2KO-peaks.bed.gz'</li><li>'../raw_data//GSE169534_SEACR-ATACseq-C2-Ezh2KO-peaks.bed.gz.1'</li><li>'../raw_data//GSM5208935_ATAC_C2_replicate_1.bw'</li><li>'../raw_data//GSM5208935_ATAC_C2_replicate_1.bw.1'</li><li>'../raw_data//GSM5208938_ATAC_C2_replicate_2.bw'</li><li>'../raw_data//GSM5208938_ATAC_C2_replicate_2.bw.1'</li><li>'../raw_data//mm10-blacklist.v2.bed'</li></ol>\n"
      ],
      "text/latex": [
       "\\begin{enumerate*}\n",
       "\\item '../raw\\_data//GSE169534\\_SEACR-ATACseq-C2-Ezh2KO-peaks.bed'\n",
       "\\item '../raw\\_data//GSE169534\\_SEACR-ATACseq-C2-Ezh2KO-peaks.bed.gz'\n",
       "\\item '../raw\\_data//GSE169534\\_SEACR-ATACseq-C2-Ezh2KO-peaks.bed.gz.1'\n",
       "\\item '../raw\\_data//GSM5208935\\_ATAC\\_C2\\_replicate\\_1.bw'\n",
       "\\item '../raw\\_data//GSM5208935\\_ATAC\\_C2\\_replicate\\_1.bw.1'\n",
       "\\item '../raw\\_data//GSM5208938\\_ATAC\\_C2\\_replicate\\_2.bw'\n",
       "\\item '../raw\\_data//GSM5208938\\_ATAC\\_C2\\_replicate\\_2.bw.1'\n",
       "\\item '../raw\\_data//mm10-blacklist.v2.bed'\n",
       "\\end{enumerate*}\n"
      ],
      "text/markdown": [
       "1. '../raw_data//GSE169534_SEACR-ATACseq-C2-Ezh2KO-peaks.bed'\n",
       "2. '../raw_data//GSE169534_SEACR-ATACseq-C2-Ezh2KO-peaks.bed.gz'\n",
       "3. '../raw_data//GSE169534_SEACR-ATACseq-C2-Ezh2KO-peaks.bed.gz.1'\n",
       "4. '../raw_data//GSM5208935_ATAC_C2_replicate_1.bw'\n",
       "5. '../raw_data//GSM5208935_ATAC_C2_replicate_1.bw.1'\n",
       "6. '../raw_data//GSM5208938_ATAC_C2_replicate_2.bw'\n",
       "7. '../raw_data//GSM5208938_ATAC_C2_replicate_2.bw.1'\n",
       "8. '../raw_data//mm10-blacklist.v2.bed'\n",
       "\n",
       "\n"
      ],
      "text/plain": [
       "[1] \"../raw_data//GSE169534_SEACR-ATACseq-C2-Ezh2KO-peaks.bed\"     \n",
       "[2] \"../raw_data//GSE169534_SEACR-ATACseq-C2-Ezh2KO-peaks.bed.gz\"  \n",
       "[3] \"../raw_data//GSE169534_SEACR-ATACseq-C2-Ezh2KO-peaks.bed.gz.1\"\n",
       "[4] \"../raw_data//GSM5208935_ATAC_C2_replicate_1.bw\"               \n",
       "[5] \"../raw_data//GSM5208935_ATAC_C2_replicate_1.bw.1\"             \n",
       "[6] \"../raw_data//GSM5208938_ATAC_C2_replicate_2.bw\"               \n",
       "[7] \"../raw_data//GSM5208938_ATAC_C2_replicate_2.bw.1\"             \n",
       "[8] \"../raw_data//mm10-blacklist.v2.bed\"                           "
      ]
     },
     "metadata": {},
     "output_type": "display_data"
    }
   ],
   "source": [
    "list.files(\"../raw_data/\",full.names = TRUE)"
   ]
  },
  {
   "cell_type": "markdown",
   "id": "e3bb3118-35ce-4bc0-88c0-d9e992158c6c",
   "metadata": {},
   "source": [
    "## Read the data"
   ]
  },
  {
   "cell_type": "code",
   "execution_count": 14,
   "id": "1590eb22-ccdf-43f2-988e-65d069ff6d93",
   "metadata": {},
   "outputs": [
    {
     "data": {
      "text/html": [
       "<table class=\"dataframe\">\n",
       "<caption>A tibble: 6 × 6</caption>\n",
       "<thead>\n",
       "\t<tr><th scope=col>X1</th><th scope=col>X2</th><th scope=col>X3</th><th scope=col>X4</th><th scope=col>X5</th><th scope=col>X6</th></tr>\n",
       "\t<tr><th scope=col>&lt;chr&gt;</th><th scope=col>&lt;dbl&gt;</th><th scope=col>&lt;dbl&gt;</th><th scope=col>&lt;dbl&gt;</th><th scope=col>&lt;dbl&gt;</th><th scope=col>&lt;chr&gt;</th></tr>\n",
       "</thead>\n",
       "<tbody>\n",
       "\t<tr><td>chr10</td><td>3280318</td><td>3282172</td><td>21824</td><td>35</td><td>chr10:3281257-3281281</td></tr>\n",
       "\t<tr><td>chr10</td><td>3365291</td><td>3368064</td><td>30344</td><td>20</td><td>chr10:3366173-3366399</td></tr>\n",
       "\t<tr><td>chr10</td><td>3407996</td><td>3411223</td><td>24292</td><td>18</td><td>chr10:3410367-3410371</td></tr>\n",
       "\t<tr><td>chr10</td><td>3506753</td><td>3509380</td><td>22363</td><td>21</td><td>chr10:3507987-3507990</td></tr>\n",
       "\t<tr><td>chr10</td><td>3518308</td><td>3519697</td><td>18105</td><td>18</td><td>chr10:3519597-3519608</td></tr>\n",
       "\t<tr><td>chr10</td><td>3520688</td><td>3520845</td><td>39954</td><td>34</td><td>chr10:3523232-3523235</td></tr>\n",
       "</tbody>\n",
       "</table>\n"
      ],
      "text/latex": [
       "A tibble: 6 × 6\n",
       "\\begin{tabular}{llllll}\n",
       " X1 & X2 & X3 & X4 & X5 & X6\\\\\n",
       " <chr> & <dbl> & <dbl> & <dbl> & <dbl> & <chr>\\\\\n",
       "\\hline\n",
       "\t chr10 & 3280318 & 3282172 & 21824 & 35 & chr10:3281257-3281281\\\\\n",
       "\t chr10 & 3365291 & 3368064 & 30344 & 20 & chr10:3366173-3366399\\\\\n",
       "\t chr10 & 3407996 & 3411223 & 24292 & 18 & chr10:3410367-3410371\\\\\n",
       "\t chr10 & 3506753 & 3509380 & 22363 & 21 & chr10:3507987-3507990\\\\\n",
       "\t chr10 & 3518308 & 3519697 & 18105 & 18 & chr10:3519597-3519608\\\\\n",
       "\t chr10 & 3520688 & 3520845 & 39954 & 34 & chr10:3523232-3523235\\\\\n",
       "\\end{tabular}\n"
      ],
      "text/markdown": [
       "\n",
       "A tibble: 6 × 6\n",
       "\n",
       "| X1 &lt;chr&gt; | X2 &lt;dbl&gt; | X3 &lt;dbl&gt; | X4 &lt;dbl&gt; | X5 &lt;dbl&gt; | X6 &lt;chr&gt; |\n",
       "|---|---|---|---|---|---|\n",
       "| chr10 | 3280318 | 3282172 | 21824 | 35 | chr10:3281257-3281281 |\n",
       "| chr10 | 3365291 | 3368064 | 30344 | 20 | chr10:3366173-3366399 |\n",
       "| chr10 | 3407996 | 3411223 | 24292 | 18 | chr10:3410367-3410371 |\n",
       "| chr10 | 3506753 | 3509380 | 22363 | 21 | chr10:3507987-3507990 |\n",
       "| chr10 | 3518308 | 3519697 | 18105 | 18 | chr10:3519597-3519608 |\n",
       "| chr10 | 3520688 | 3520845 | 39954 | 34 | chr10:3523232-3523235 |\n",
       "\n"
      ],
      "text/plain": [
       "  X1    X2      X3      X4    X5 X6                   \n",
       "1 chr10 3280318 3282172 21824 35 chr10:3281257-3281281\n",
       "2 chr10 3365291 3368064 30344 20 chr10:3366173-3366399\n",
       "3 chr10 3407996 3411223 24292 18 chr10:3410367-3410371\n",
       "4 chr10 3506753 3509380 22363 21 chr10:3507987-3507990\n",
       "5 chr10 3518308 3519697 18105 18 chr10:3519597-3519608\n",
       "6 chr10 3520688 3520845 39954 34 chr10:3523232-3523235"
      ]
     },
     "metadata": {},
     "output_type": "display_data"
    }
   ],
   "source": [
    "Peaks = readr::read_tsv(\"../raw_data//GSE169534_SEACR-ATACseq-C2-Ezh2KO-peaks.bed\",col_names = FALSE)\n",
    "head(Peaks)"
   ]
  },
  {
   "cell_type": "markdown",
   "id": "33805ffc-b960-4b26-8683-d916d5a3ec4b",
   "metadata": {},
   "source": [
    "Convert to GenomicRanges object for easy manipulation"
   ]
  },
  {
   "cell_type": "code",
   "execution_count": 17,
   "id": "3464c744-bf9e-45f6-a11d-87e5b473ccee",
   "metadata": {},
   "outputs": [
    {
     "data": {
      "text/plain": [
       "GRanges object with 21835 ranges and 3 metadata columns:\n",
       "          seqnames              ranges strand | total_signal max_signal\n",
       "             <Rle>           <IRanges>  <Rle> |    <numeric>  <numeric>\n",
       "      [1]    chr10     3280318-3282172      * |        21824         35\n",
       "      [2]    chr10     3365291-3368064      * |        30344         20\n",
       "      [3]    chr10     3407996-3411223      * |        24292         18\n",
       "      [4]    chr10     3506753-3509380      * |        22363         21\n",
       "      [5]    chr10     3518308-3519697      * |        18105         18\n",
       "      ...      ...                 ...    ... .          ...        ...\n",
       "  [21831]     chrX 166509443-166511579      * |        28487         45\n",
       "  [21832]     chrX 166660571-166663141      * |        26317         25\n",
       "  [21833]     chrX 167381519-167383206      * |        17218         20\n",
       "  [21834]     chrX 168672368-168675362      * |        36099         31\n",
       "  [21835]     chrX 169319695-169321622      * |        19003         32\n",
       "               max signal region\n",
       "                     <character>\n",
       "      [1]  chr10:3281257-3281281\n",
       "      [2]  chr10:3366173-3366399\n",
       "      [3]  chr10:3410367-3410371\n",
       "      [4]  chr10:3507987-3507990\n",
       "      [5]  chr10:3519597-3519608\n",
       "      ...                    ...\n",
       "  [21831] chrX:166510608-16651..\n",
       "  [21832] chrX:166662032-16666..\n",
       "  [21833] chrX:167382526-16738..\n",
       "  [21834] chrX:168672614-16867..\n",
       "  [21835] chrX:169320326-16932..\n",
       "  -------\n",
       "  seqinfo: 37 sequences from an unspecified genome; no seqlengths"
      ]
     },
     "metadata": {},
     "output_type": "display_data"
    }
   ],
   "source": [
    "colnames(Peaks) = c(\"seqnames\",\"start\",\"end\",\"total_signal\",\"max_signal\",\"max signal region\")\n",
    "Peaks.GR = GRanges(Peaks)\n",
    "Peaks.GR"
   ]
  },
  {
   "cell_type": "code",
   "execution_count": 21,
   "id": "ae375e96-8f7b-48bf-b9ff-d757a7fd60ae",
   "metadata": {},
   "outputs": [
    {
     "data": {
      "image/png": "[encoded data removed]",
      "text/plain": [
       "Plot with title “Histogram of log10(width(Peaks.GR))”"
      ]
     },
     "metadata": {
      "image/png": {
       "height": 420,
       "width": 420
      }
     },
     "output_type": "display_data"
    }
   ],
   "source": [
    "hist(log10(width(Peaks.GR)))"
   ]
  },
  {
   "cell_type": "markdown",
   "id": "e408c07a-e57c-4866-89c3-440475c2c4a0",
   "metadata": {},
   "source": [
    "Let's remove the very short regions and regions located in sex chromosomes (X and Y chromosomes)"
   ]
  },
  {
   "cell_type": "code",
   "execution_count": 22,
   "id": "13d0c518-8788-4688-a211-6871913259a6",
   "metadata": {},
   "outputs": [
    {
     "data": {
      "text/html": [
       "21835"
      ],
      "text/latex": [
       "21835"
      ],
      "text/markdown": [
       "21835"
      ],
      "text/plain": [
       "[1] 21835"
      ]
     },
     "metadata": {},
     "output_type": "display_data"
    }
   ],
   "source": [
    "length(Peaks.GR)"
   ]
  },
  {
   "cell_type": "code",
   "execution_count": 44,
   "id": "32f5c4a2-9267-4975-8166-57eadef10939",
   "metadata": {},
   "outputs": [
    {
     "data": {
      "text/html": [
       "21113"
      ],
      "text/latex": [
       "21113"
      ],
      "text/markdown": [
       "21113"
      ],
      "text/plain": [
       "[1] 21113"
      ]
     },
     "metadata": {},
     "output_type": "display_data"
    }
   ],
   "source": [
    "filtered_Peaks.GR = subset(Peaks.GR, width >= 500 & seqnames %in% glue(\"chr{c(1:19)}\"))\n",
    "filtered_Peaks.GR = keepSeqlevels(filtered_Peaks.GR, value = seqlevelsInUse(filtered_Peaks.GR))\n",
    "length(filtered_Peaks.GR)"
   ]
  },
  {
   "cell_type": "markdown",
   "id": "6515c4e0-9a4d-4c4a-8f47-5a49b9c5727b",
   "metadata": {},
   "source": [
    "## Remove black listed regions"
   ]
  },
  {
   "cell_type": "markdown",
   "id": "fb551e68-b7e7-4e94-896b-91487c454958",
   "metadata": {},
   "source": [
    "There are some regions of the genome that always have signal, but it is a false positive, so we filter any region that falls into that region"
   ]
  },
  {
   "cell_type": "code",
   "execution_count": 42,
   "id": "feb25fe2-5c30-43ee-b0fb-9029262df4eb",
   "metadata": {},
   "outputs": [
    {
     "data": {
      "text/plain": [
       "GRanges object with 6 ranges and 1 metadata column:\n",
       "      seqnames          ranges strand |               name\n",
       "         <Rle>       <IRanges>  <Rle> |        <character>\n",
       "  [1]    chr10       1-3135400      * | High Signal Region\n",
       "  [2]    chr10 3218901-3276600      * |    Low Mappability\n",
       "  [3]    chr10 3576901-3627700      * |    Low Mappability\n",
       "  [4]    chr10 4191101-4197600      * |    Low Mappability\n",
       "  [5]    chr10 4613501-4615400      * | High Signal Region\n",
       "  [6]    chr10 4761301-4763900      * | High Signal Region\n",
       "  -------\n",
       "  seqinfo: 21 sequences from an unspecified genome; no seqlengths"
      ]
     },
     "metadata": {},
     "output_type": "display_data"
    }
   ],
   "source": [
    "mm10_blackRegions = rtracklayer::import.bed(\"../raw_data/mm10-blacklist.v2.bed\")"
   ]
  },
  {
   "cell_type": "code",
   "execution_count": 45,
   "id": "16870738-cf94-463a-9f4b-10e9c233b6a0",
   "metadata": {},
   "outputs": [
    {
     "data": {
      "text/html": [
       "21112"
      ],
      "text/latex": [
       "21112"
      ],
      "text/markdown": [
       "21112"
      ],
      "text/plain": [
       "[1] 21112"
      ]
     },
     "metadata": {},
     "output_type": "display_data"
    }
   ],
   "source": [
    "filtered_Peaks.GR = subsetByOverlaps(filtered_Peaks.GR, mm10_blackRegions,invert = TRUE)\n",
    "length(filtered_Peaks.GR)"
   ]
  },
  {
   "cell_type": "markdown",
   "id": "b8c219bc-3fd0-4431-bd90-a9974e3f08b2",
   "metadata": {},
   "source": [
    "# Check the distribution of the number peaks per-chromosome"
   ]
  },
  {
   "cell_type": "code",
   "execution_count": 46,
   "id": "893ce8c3-ab08-4579-9c4b-cea75f15bb51",
   "metadata": {},
   "outputs": [
    {
     "data": {
      "image/png": "[encoded data removed]",
      "text/plain": [
       "plot without title"
      ]
     },
     "metadata": {
      "image/png": {
       "height": 360,
       "width": 600
      }
     },
     "output_type": "display_data"
    }
   ],
   "source": [
    "filtered_Peaks.df = as.data.frame(filtered_Peaks.GR)[,1:3]\n",
    "\n",
    "options(repr.plot.width = 10, repr.plot.height = 6)\n",
    "ggplot(filtered_Peaks.df, aes(x=seqnames)) +  \n",
    "   geom_bar(width=0.8, fill=\"black\") + \n",
    "   theme_bw() +\n",
    "   xlab(\"Chromosome\") +\n",
    "   ylab(\"Number of open chromatin regions\") +\n",
    "   theme(axis.text.x = element_text(angle = 90,hjust = 1,size = 12),\n",
    "         axis.text = element_text(size = 12))"
   ]
  },
  {
   "cell_type": "markdown",
   "id": "4554125c-f3ed-49bc-b033-4da85300fc11",
   "metadata": {},
   "source": [
    "We can use chromosomes chr1 to chr5 for training and the rest for testing.\n",
    "\n",
    "### Generate 200bp windows and group them into positive and label them"
   ]
  },
  {
   "cell_type": "markdown",
   "id": "4609bd05-325d-4493-887d-66da13d8c38f",
   "metadata": {},
   "source": [
    "We use a sliding window of size 200bp to generated windows"
   ]
  },
  {
   "cell_type": "code",
   "execution_count": 57,
   "id": "031e2458-085e-47d8-8a74-212f9215c057",
   "metadata": {
    "collapsed": true,
    "jupyter": {
     "outputs_hidden": true
    },
    "tags": []
   },
   "outputs": [
    {
     "name": "stdout",
     "output_type": "stream",
     "text": [
      "[1] \"chr1\"\n",
      "[1] \"chr2\"\n"
     ]
    },
    {
     "name": "stderr",
     "output_type": "stream",
     "text": [
      "Warning message in .Seqinfo.mergexy(x, y):\n",
      "“The 2 combined objects have no sequence levels in common. (Use\n",
      "  suppressWarnings() to suppress this warning.)”\n"
     ]
    },
    {
     "name": "stdout",
     "output_type": "stream",
     "text": [
      "[1] \"chr3\"\n"
     ]
    },
    {
     "name": "stderr",
     "output_type": "stream",
     "text": [
      "Warning message in .Seqinfo.mergexy(x, y):\n",
      "“The 2 combined objects have no sequence levels in common. (Use\n",
      "  suppressWarnings() to suppress this warning.)”\n"
     ]
    },
    {
     "name": "stdout",
     "output_type": "stream",
     "text": [
      "[1] \"chr4\"\n"
     ]
    },
    {
     "name": "stderr",
     "output_type": "stream",
     "text": [
      "Warning message in .Seqinfo.mergexy(x, y):\n",
      "“The 2 combined objects have no sequence levels in common. (Use\n",
      "  suppressWarnings() to suppress this warning.)”\n"
     ]
    },
    {
     "name": "stdout",
     "output_type": "stream",
     "text": [
      "[1] \"chr5\"\n"
     ]
    },
    {
     "name": "stderr",
     "output_type": "stream",
     "text": [
      "Warning message in .Seqinfo.mergexy(x, y):\n",
      "“The 2 combined objects have no sequence levels in common. (Use\n",
      "  suppressWarnings() to suppress this warning.)”\n"
     ]
    },
    {
     "name": "stdout",
     "output_type": "stream",
     "text": [
      "[1] \"chr6\"\n"
     ]
    },
    {
     "name": "stderr",
     "output_type": "stream",
     "text": [
      "Warning message in .Seqinfo.mergexy(x, y):\n",
      "“The 2 combined objects have no sequence levels in common. (Use\n",
      "  suppressWarnings() to suppress this warning.)”\n"
     ]
    },
    {
     "name": "stdout",
     "output_type": "stream",
     "text": [
      "[1] \"chr7\"\n"
     ]
    },
    {
     "name": "stderr",
     "output_type": "stream",
     "text": [
      "Warning message in .Seqinfo.mergexy(x, y):\n",
      "“The 2 combined objects have no sequence levels in common. (Use\n",
      "  suppressWarnings() to suppress this warning.)”\n"
     ]
    },
    {
     "name": "stdout",
     "output_type": "stream",
     "text": [
      "[1] \"chr8\"\n"
     ]
    },
    {
     "name": "stderr",
     "output_type": "stream",
     "text": [
      "Warning message in .Seqinfo.mergexy(x, y):\n",
      "“The 2 combined objects have no sequence levels in common. (Use\n",
      "  suppressWarnings() to suppress this warning.)”\n"
     ]
    },
    {
     "name": "stdout",
     "output_type": "stream",
     "text": [
      "[1] \"chr9\"\n"
     ]
    },
    {
     "name": "stderr",
     "output_type": "stream",
     "text": [
      "Warning message in .Seqinfo.mergexy(x, y):\n",
      "“The 2 combined objects have no sequence levels in common. (Use\n",
      "  suppressWarnings() to suppress this warning.)”\n"
     ]
    },
    {
     "name": "stdout",
     "output_type": "stream",
     "text": [
      "[1] \"chr10\"\n"
     ]
    },
    {
     "name": "stderr",
     "output_type": "stream",
     "text": [
      "Warning message in .Seqinfo.mergexy(x, y):\n",
      "“The 2 combined objects have no sequence levels in common. (Use\n",
      "  suppressWarnings() to suppress this warning.)”\n"
     ]
    },
    {
     "name": "stdout",
     "output_type": "stream",
     "text": [
      "[1] \"chr11\"\n"
     ]
    },
    {
     "name": "stderr",
     "output_type": "stream",
     "text": [
      "Warning message in .Seqinfo.mergexy(x, y):\n",
      "“The 2 combined objects have no sequence levels in common. (Use\n",
      "  suppressWarnings() to suppress this warning.)”\n"
     ]
    },
    {
     "name": "stdout",
     "output_type": "stream",
     "text": [
      "[1] \"chr12\"\n"
     ]
    },
    {
     "name": "stderr",
     "output_type": "stream",
     "text": [
      "Warning message in .Seqinfo.mergexy(x, y):\n",
      "“The 2 combined objects have no sequence levels in common. (Use\n",
      "  suppressWarnings() to suppress this warning.)”\n"
     ]
    },
    {
     "name": "stdout",
     "output_type": "stream",
     "text": [
      "[1] \"chr13\"\n"
     ]
    },
    {
     "name": "stderr",
     "output_type": "stream",
     "text": [
      "Warning message in .Seqinfo.mergexy(x, y):\n",
      "“The 2 combined objects have no sequence levels in common. (Use\n",
      "  suppressWarnings() to suppress this warning.)”\n"
     ]
    },
    {
     "name": "stdout",
     "output_type": "stream",
     "text": [
      "[1] \"chr14\"\n"
     ]
    },
    {
     "name": "stderr",
     "output_type": "stream",
     "text": [
      "Warning message in .Seqinfo.mergexy(x, y):\n",
      "“The 2 combined objects have no sequence levels in common. (Use\n",
      "  suppressWarnings() to suppress this warning.)”\n"
     ]
    },
    {
     "name": "stdout",
     "output_type": "stream",
     "text": [
      "[1] \"chr15\"\n"
     ]
    },
    {
     "name": "stderr",
     "output_type": "stream",
     "text": [
      "Warning message in .Seqinfo.mergexy(x, y):\n",
      "“The 2 combined objects have no sequence levels in common. (Use\n",
      "  suppressWarnings() to suppress this warning.)”\n"
     ]
    },
    {
     "name": "stdout",
     "output_type": "stream",
     "text": [
      "[1] \"chr16\"\n"
     ]
    },
    {
     "name": "stderr",
     "output_type": "stream",
     "text": [
      "Warning message in .Seqinfo.mergexy(x, y):\n",
      "“The 2 combined objects have no sequence levels in common. (Use\n",
      "  suppressWarnings() to suppress this warning.)”\n"
     ]
    },
    {
     "name": "stdout",
     "output_type": "stream",
     "text": [
      "[1] \"chr17\"\n"
     ]
    },
    {
     "name": "stderr",
     "output_type": "stream",
     "text": [
      "Warning message in .Seqinfo.mergexy(x, y):\n",
      "“The 2 combined objects have no sequence levels in common. (Use\n",
      "  suppressWarnings() to suppress this warning.)”\n"
     ]
    },
    {
     "name": "stdout",
     "output_type": "stream",
     "text": [
      "[1] \"chr18\"\n"
     ]
    },
    {
     "name": "stderr",
     "output_type": "stream",
     "text": [
      "Warning message in .Seqinfo.mergexy(x, y):\n",
      "“The 2 combined objects have no sequence levels in common. (Use\n",
      "  suppressWarnings() to suppress this warning.)”\n"
     ]
    },
    {
     "name": "stdout",
     "output_type": "stream",
     "text": [
      "[1] \"chr19\"\n"
     ]
    },
    {
     "name": "stderr",
     "output_type": "stream",
     "text": [
      "Warning message in .Seqinfo.mergexy(x, y):\n",
      "“The 2 combined objects have no sequence levels in common. (Use\n",
      "  suppressWarnings() to suppress this warning.)”\n"
     ]
    }
   ],
   "source": [
    "seqlen = seqlengths(BSgenome.Mmusculus.UCSC.mm10)[1:19]\n",
    "winsize = 500\n",
    "\n",
    "all_bins = GRangesList()\n",
    "for(ch in names(seqlen)){\n",
    "    print(ch)\n",
    "    region <- GRanges(ch, IRanges(1,seqlen[ch]))\n",
    "    bins = slidingWindows(region,width = winsize,step = winsize)[[1]]\n",
    "    # exclude blak listed regions\n",
    "    bins = subsetByOverlaps(bins,mm10_blackRegions,invert = T)\n",
    "    all_bins[[ch]] = bins\n",
    "  }"
   ]
  },
  {
   "cell_type": "code",
   "execution_count": 58,
   "id": "c37c5071-3ac6-453b-b6a1-857c0b688c7a",
   "metadata": {},
   "outputs": [
    {
     "data": {
      "text/html": [
       "<style>\n",
       ".dl-inline {width: auto; margin:0; padding: 0}\n",
       ".dl-inline>dt, .dl-inline>dd {float: none; width: auto; display: inline-block}\n",
       ".dl-inline>dt::after {content: \":\\0020\"; padding-right: .5ex}\n",
       ".dl-inline>dt:not(:first-of-type) {padding-left: .5ex}\n",
       "</style><dl class=dl-inline><dt>chr1</dt><dd>387278</dd><dt>chr2</dt><dd>335632</dd><dt>chr3</dt><dd>299054</dd><dt>chr4</dt><dd>300411</dd><dt>chr5</dt><dd>301331</dd><dt>chr6</dt><dd>284980</dd><dt>chr7</dt><dd>269980</dd><dt>chr8</dt><dd>254700</dd><dt>chr9</dt><dd>231893</dd><dt>chr10</dt><dd>242920</dd><dt>chr11</dt><dd>231391</dd><dt>chr12</dt><dd>222186</dd><dt>chr13</dt><dd>228076</dd><dt>chr14</dt><dd>222798</dd><dt>chr15</dt><dd>192424</dd><dt>chr16</dt><dd>184198</dd><dt>chr17</dt><dd>179567</dd><dt>chr18</dt><dd>168596</dd><dt>chr19</dt><dd>112447</dd></dl>\n"
      ],
      "text/latex": [
       "\\begin{description*}\n",
       "\\item[chr1] 387278\n",
       "\\item[chr2] 335632\n",
       "\\item[chr3] 299054\n",
       "\\item[chr4] 300411\n",
       "\\item[chr5] 301331\n",
       "\\item[chr6] 284980\n",
       "\\item[chr7] 269980\n",
       "\\item[chr8] 254700\n",
       "\\item[chr9] 231893\n",
       "\\item[chr10] 242920\n",
       "\\item[chr11] 231391\n",
       "\\item[chr12] 222186\n",
       "\\item[chr13] 228076\n",
       "\\item[chr14] 222798\n",
       "\\item[chr15] 192424\n",
       "\\item[chr16] 184198\n",
       "\\item[chr17] 179567\n",
       "\\item[chr18] 168596\n",
       "\\item[chr19] 112447\n",
       "\\end{description*}\n"
      ],
      "text/markdown": [
       "chr1\n",
       ":   387278chr2\n",
       ":   335632chr3\n",
       ":   299054chr4\n",
       ":   300411chr5\n",
       ":   301331chr6\n",
       ":   284980chr7\n",
       ":   269980chr8\n",
       ":   254700chr9\n",
       ":   231893chr10\n",
       ":   242920chr11\n",
       ":   231391chr12\n",
       ":   222186chr13\n",
       ":   228076chr14\n",
       ":   222798chr15\n",
       ":   192424chr16\n",
       ":   184198chr17\n",
       ":   179567chr18\n",
       ":   168596chr19\n",
       ":   112447\n",
       "\n"
      ],
      "text/plain": [
       "  chr1   chr2   chr3   chr4   chr5   chr6   chr7   chr8   chr9  chr10  chr11 \n",
       "387278 335632 299054 300411 301331 284980 269980 254700 231893 242920 231391 \n",
       " chr12  chr13  chr14  chr15  chr16  chr17  chr18  chr19 \n",
       "222186 228076 222798 192424 184198 179567 168596 112447 "
      ]
     },
     "metadata": {},
     "output_type": "display_data"
    }
   ],
   "source": [
    "sapply(all_bins,length)"
   ]
  },
  {
   "cell_type": "code",
   "execution_count": 59,
   "id": "10014871-19e5-45e3-9c1d-83f462718f84",
   "metadata": {},
   "outputs": [],
   "source": [
    "all_bins = unlist(all_bins)"
   ]
  },
  {
   "cell_type": "code",
   "execution_count": 60,
   "id": "3bee8132-1dbd-4824-a85e-fe11bb9a6042",
   "metadata": {},
   "outputs": [
    {
     "data": {
      "text/html": [
       "'4,649,862'"
      ],
      "text/latex": [
       "'4,649,862'"
      ],
      "text/markdown": [
       "'4,649,862'"
      ],
      "text/plain": [
       "[1] \"4,649,862\""
      ]
     },
     "metadata": {},
     "output_type": "display_data"
    }
   ],
   "source": [
    "prettyNum(length(all_bins),big.mark = \",\")"
   ]
  },
  {
   "cell_type": "markdown",
   "id": "d955b4bc-7ea0-4745-a760-5d2835a5cd27",
   "metadata": {},
   "source": [
    "## Mark positive and negative samples"
   ]
  },
  {
   "cell_type": "code",
   "execution_count": 63,
   "id": "ce13e855-ad61-4c5e-800e-14a54cb7c7c8",
   "metadata": {},
   "outputs": [],
   "source": [
    "all_bins$Class = rep(0,length(all_bins))            \n",
    "positive = findOverlaps(all_bins, filtered_Peaks.GR) %>% queryHits()\n",
    "all_bins$Class[positive]=1"
   ]
  },
  {
   "cell_type": "code",
   "execution_count": 65,
   "id": "2b3c54b5-a857-42d4-8031-88e677d40f2c",
   "metadata": {},
   "outputs": [
    {
     "data": {
      "text/plain": [
       "\n",
       "         0          1 \n",
       "0.96881692 0.03118308 "
      ]
     },
     "metadata": {},
     "output_type": "display_data"
    }
   ],
   "source": [
    "table(all_bins$Class)/length(all_bins)"
   ]
  },
  {
   "cell_type": "markdown",
   "id": "5d467be5-4aa4-4d1b-bc0a-073eb8fe426a",
   "metadata": {},
   "source": [
    "## Subsample data"
   ]
  },
  {
   "cell_type": "code",
   "execution_count": 66,
   "id": "548cb6d4-ecbb-4c4f-b374-368454e29f78",
   "metadata": {
    "collapsed": true,
    "jupyter": {
     "outputs_hidden": true
    },
    "tags": []
   },
   "outputs": [
    {
     "name": "stderr",
     "output_type": "stream",
     "text": [
      "Loading required package: tidymodels\n",
      "\n",
      "── \u001b[1mAttaching packages\u001b[22m ───────────────────────────────────────────────────────────────────────────────────────────────────────────────────────────────── tidymodels 0.1.2 ──\n",
      "\n",
      "\u001b[32m✔\u001b[39m \u001b[34mbroom    \u001b[39m 0.7.5      \u001b[32m✔\u001b[39m \u001b[34mrecipes  \u001b[39m 0.1.15\n",
      "\u001b[32m✔\u001b[39m \u001b[34mdials    \u001b[39m 0.0.9      \u001b[32m✔\u001b[39m \u001b[34mrsample  \u001b[39m 0.0.9 \n",
      "\u001b[32m✔\u001b[39m \u001b[34minfer    \u001b[39m 0.5.4      \u001b[32m✔\u001b[39m \u001b[34mtune     \u001b[39m 0.1.3 \n",
      "\u001b[32m✔\u001b[39m \u001b[34mmodeldata\u001b[39m 0.1.0      \u001b[32m✔\u001b[39m \u001b[34mworkflows\u001b[39m 0.2.2 \n",
      "\u001b[32m✔\u001b[39m \u001b[34mparsnip  \u001b[39m 0.1.5      \u001b[32m✔\u001b[39m \u001b[34myardstick\u001b[39m 0.0.8 \n",
      "\n",
      "Warning message:\n",
      "“package ‘broom’ was built under R version 4.0.3”\n",
      "Warning message:\n",
      "“package ‘recipes’ was built under R version 4.0.3”\n",
      "── \u001b[1mConflicts\u001b[22m ──────────────────────────────────────────────────────────────────────────────────────────────────────────────────────────────────── tidymodels_conflicts() ──\n",
      "\u001b[31m✖\u001b[39m \u001b[34mdplyr\u001b[39m::\u001b[32mcollapse()\u001b[39m     masks \u001b[34mglue\u001b[39m::collapse(), \u001b[34mBiostrings\u001b[39m::collapse(), \u001b[34mIRanges\u001b[39m::collapse()\n",
      "\u001b[31m✖\u001b[39m \u001b[34mdplyr\u001b[39m::\u001b[32mcombine()\u001b[39m      masks \u001b[34mBiocGenerics\u001b[39m::combine()\n",
      "\u001b[31m✖\u001b[39m \u001b[34mpurrr\u001b[39m::\u001b[32mcompact()\u001b[39m      masks \u001b[34mXVector\u001b[39m::compact()\n",
      "\u001b[31m✖\u001b[39m \u001b[34mrsample\u001b[39m::\u001b[32mcomplement()\u001b[39m masks \u001b[34mBiostrings\u001b[39m::complement()\n",
      "\u001b[31m✖\u001b[39m \u001b[34mdials\u001b[39m::\u001b[32mdegree()\u001b[39m       masks \u001b[34mcirclize\u001b[39m::degree()\n",
      "\u001b[31m✖\u001b[39m \u001b[34mdplyr\u001b[39m::\u001b[32mdesc()\u001b[39m         masks \u001b[34mIRanges\u001b[39m::desc()\n",
      "\u001b[31m✖\u001b[39m \u001b[34mscales\u001b[39m::\u001b[32mdiscard()\u001b[39m     masks \u001b[34mpurrr\u001b[39m::discard()\n",
      "\u001b[31m✖\u001b[39m \u001b[34mrecipes\u001b[39m::\u001b[32mdiscretize()\u001b[39m masks \u001b[34mEnrichedHeatmap\u001b[39m::discretize()\n",
      "\u001b[31m✖\u001b[39m \u001b[34mtidyr\u001b[39m::\u001b[32mexpand()\u001b[39m       masks \u001b[34mS4Vectors\u001b[39m::expand()\n",
      "\u001b[31m✖\u001b[39m \u001b[34mdplyr\u001b[39m::\u001b[32mfilter()\u001b[39m       masks \u001b[34mstats\u001b[39m::filter()\n",
      "\u001b[31m✖\u001b[39m \u001b[34mdplyr\u001b[39m::\u001b[32mfirst()\u001b[39m        masks \u001b[34mS4Vectors\u001b[39m::first()\n",
      "\u001b[31m✖\u001b[39m \u001b[34mrecipes\u001b[39m::\u001b[32mfixed()\u001b[39m      masks \u001b[34mstringr\u001b[39m::fixed()\n",
      "\u001b[31m✖\u001b[39m \u001b[34mdplyr\u001b[39m::\u001b[32mlag()\u001b[39m          masks \u001b[34mstats\u001b[39m::lag()\n",
      "\u001b[31m✖\u001b[39m \u001b[34mggplot2\u001b[39m::\u001b[32mPosition()\u001b[39m   masks \u001b[34mBiocGenerics\u001b[39m::Position(), \u001b[34mbase\u001b[39m::Position()\n",
      "\u001b[31m✖\u001b[39m \u001b[34mrecipes\u001b[39m::\u001b[32mprepare()\u001b[39m    masks \u001b[34mComplexHeatmap\u001b[39m::prepare()\n",
      "\u001b[31m✖\u001b[39m \u001b[34mpurrr\u001b[39m::\u001b[32mreduce()\u001b[39m       masks \u001b[34mGenomicRanges\u001b[39m::reduce(), \u001b[34mIRanges\u001b[39m::reduce()\n",
      "\u001b[31m✖\u001b[39m \u001b[34mdplyr\u001b[39m::\u001b[32mrename()\u001b[39m       masks \u001b[34mS4Vectors\u001b[39m::rename()\n",
      "\u001b[31m✖\u001b[39m \u001b[34mdplyr\u001b[39m::\u001b[32mslice()\u001b[39m        masks \u001b[34mXVector\u001b[39m::slice(), \u001b[34mIRanges\u001b[39m::slice()\n",
      "\u001b[31m✖\u001b[39m \u001b[34myardstick\u001b[39m::\u001b[32mspec()\u001b[39m     masks \u001b[34mreadr\u001b[39m::spec()\n",
      "\u001b[31m✖\u001b[39m \u001b[34mrecipes\u001b[39m::\u001b[32mstep()\u001b[39m       masks \u001b[34mstats\u001b[39m::step()\n",
      "\u001b[31m✖\u001b[39m \u001b[34mparsnip\u001b[39m::\u001b[32mtranslate()\u001b[39m  masks \u001b[34mBiostrings\u001b[39m::translate()\n",
      "\u001b[31m✖\u001b[39m \u001b[34mrecipes\u001b[39m::\u001b[32mupdate()\u001b[39m     masks \u001b[34mGenomicRanges\u001b[39m::update(), \u001b[34mstats4\u001b[39m::update(), \u001b[34mstats\u001b[39m::update()\n",
      "\n"
     ]
    }
   ],
   "source": [
    "require(tidymodels)"
   ]
  },
  {
   "cell_type": "code",
   "execution_count": 96,
   "id": "521c5f45-422a-496b-a9f4-d1cd4d348c8d",
   "metadata": {},
   "outputs": [
    {
     "data": {
      "text/html": [
       "<table class=\"dataframe\">\n",
       "<caption>A tibble: 6 × 4</caption>\n",
       "<thead>\n",
       "\t<tr><th scope=col>seqnames</th><th scope=col>start</th><th scope=col>end</th><th scope=col>Class</th></tr>\n",
       "\t<tr><th scope=col>&lt;fct&gt;</th><th scope=col>&lt;int&gt;</th><th scope=col>&lt;int&gt;</th><th scope=col>&lt;fct&gt;</th></tr>\n",
       "</thead>\n",
       "<tbody>\n",
       "\t<tr><td>chr1</td><td>   1</td><td> 500</td><td>0</td></tr>\n",
       "\t<tr><td>chr1</td><td> 501</td><td>1000</td><td>0</td></tr>\n",
       "\t<tr><td>chr1</td><td>1001</td><td>1500</td><td>0</td></tr>\n",
       "\t<tr><td>chr1</td><td>1501</td><td>2000</td><td>0</td></tr>\n",
       "\t<tr><td>chr1</td><td>2001</td><td>2500</td><td>0</td></tr>\n",
       "\t<tr><td>chr1</td><td>2501</td><td>3000</td><td>0</td></tr>\n",
       "</tbody>\n",
       "</table>\n"
      ],
      "text/latex": [
       "A tibble: 6 × 4\n",
       "\\begin{tabular}{llll}\n",
       " seqnames & start & end & Class\\\\\n",
       " <fct> & <int> & <int> & <fct>\\\\\n",
       "\\hline\n",
       "\t chr1 &    1 &  500 & 0\\\\\n",
       "\t chr1 &  501 & 1000 & 0\\\\\n",
       "\t chr1 & 1001 & 1500 & 0\\\\\n",
       "\t chr1 & 1501 & 2000 & 0\\\\\n",
       "\t chr1 & 2001 & 2500 & 0\\\\\n",
       "\t chr1 & 2501 & 3000 & 0\\\\\n",
       "\\end{tabular}\n"
      ],
      "text/markdown": [
       "\n",
       "A tibble: 6 × 4\n",
       "\n",
       "| seqnames &lt;fct&gt; | start &lt;int&gt; | end &lt;int&gt; | Class &lt;fct&gt; |\n",
       "|---|---|---|---|\n",
       "| chr1 |    1 |  500 | 0 |\n",
       "| chr1 |  501 | 1000 | 0 |\n",
       "| chr1 | 1001 | 1500 | 0 |\n",
       "| chr1 | 1501 | 2000 | 0 |\n",
       "| chr1 | 2001 | 2500 | 0 |\n",
       "| chr1 | 2501 | 3000 | 0 |\n",
       "\n"
      ],
      "text/plain": [
       "  seqnames start end  Class\n",
       "1 chr1        1   500 0    \n",
       "2 chr1      501  1000 0    \n",
       "3 chr1     1001  1500 0    \n",
       "4 chr1     1501  2000 0    \n",
       "5 chr1     2001  2500 0    \n",
       "6 chr1     2501  3000 0    "
      ]
     },
     "metadata": {},
     "output_type": "display_data"
    }
   ],
   "source": [
    "all_bins.df = as_tibble(all_bins)\n",
    "all_bins.df$width = NULL\n",
    "all_bins.df$strand = NULL\n",
    "all_bins.df$Class = factor(all_bins.df$Class)\n",
    "all_bins.df$seqnames = factor(all_bins.df$seqnames)\n",
    "head(all_bins.df)"
   ]
  },
  {
   "cell_type": "code",
   "execution_count": 106,
   "id": "c95eba10-686e-4fef-843b-ca13ce8065fb",
   "metadata": {},
   "outputs": [
    {
     "data": {
      "text/html": [
       "<style>\n",
       ".list-inline {list-style: none; margin:0; padding: 0}\n",
       ".list-inline>li {display: inline-block}\n",
       ".list-inline>li:not(:last-child)::after {content: \"\\00b7\"; padding: 0 .5ex}\n",
       "</style>\n",
       "<ol class=list-inline><li>'tbl_df'</li><li>'tbl'</li><li>'data.frame'</li></ol>\n"
      ],
      "text/latex": [
       "\\begin{enumerate*}\n",
       "\\item 'tbl\\_df'\n",
       "\\item 'tbl'\n",
       "\\item 'data.frame'\n",
       "\\end{enumerate*}\n"
      ],
      "text/markdown": [
       "1. 'tbl_df'\n",
       "2. 'tbl'\n",
       "3. 'data.frame'\n",
       "\n",
       "\n"
      ],
      "text/plain": [
       "[1] \"tbl_df\"     \"tbl\"        \"data.frame\""
      ]
     },
     "metadata": {},
     "output_type": "display_data"
    }
   ],
   "source": [
    "class(split(all_bins.df, all_bins.df$seqnames)[[1]])"
   ]
  },
  {
   "cell_type": "code",
   "execution_count": 123,
   "id": "a26b485e-aeef-4478-b5be-45be41ece0b0",
   "metadata": {},
   "outputs": [],
   "source": [
    "all_bins_subsampled <-  split(all_bins.df, all_bins.df$seqnames) %>% \n",
    "                          map(.f = function(df) {\n",
    "                           \n",
    "                           recipe( ~ .,data = df) %>%\n",
    "                           themis::step_downsample(Class, under_ratio = 1.5) %>%\n",
    "                           prep() %>%\n",
    "                           bake(new_data = NULL) \n",
    "                              \n",
    "                          }) %>%\n",
    "                         do.call(what = \"rbind\")"
   ]
  },
  {
   "cell_type": "code",
   "execution_count": 124,
   "id": "913dddf4-b8d4-4301-8cec-8e53c32f9a54",
   "metadata": {},
   "outputs": [
    {
     "data": {
      "text/html": [
       "<style>\n",
       ".list-inline {list-style: none; margin:0; padding: 0}\n",
       ".list-inline>li {display: inline-block}\n",
       ".list-inline>li:not(:last-child)::after {content: \"\\00b7\"; padding: 0 .5ex}\n",
       "</style>\n",
       "<ol class=list-inline><li>'tbl_df'</li><li>'tbl'</li><li>'data.frame'</li></ol>\n"
      ],
      "text/latex": [
       "\\begin{enumerate*}\n",
       "\\item 'tbl\\_df'\n",
       "\\item 'tbl'\n",
       "\\item 'data.frame'\n",
       "\\end{enumerate*}\n"
      ],
      "text/markdown": [
       "1. 'tbl_df'\n",
       "2. 'tbl'\n",
       "3. 'data.frame'\n",
       "\n",
       "\n"
      ],
      "text/plain": [
       "[1] \"tbl_df\"     \"tbl\"        \"data.frame\""
      ]
     },
     "metadata": {},
     "output_type": "display_data"
    }
   ],
   "source": [
    "class(all_bins_subsampled)"
   ]
  },
  {
   "cell_type": "code",
   "execution_count": 125,
   "id": "7a8121f7-6d8a-4778-be69-1cd0bee7e809",
   "metadata": {},
   "outputs": [
    {
     "data": {
      "image/png": "[encoded data removed]",
      "text/plain": [
       "plot without title"
      ]
     },
     "metadata": {
      "image/png": {
       "height": 300,
       "width": 360
      }
     },
     "output_type": "display_data"
    }
   ],
   "source": [
    "options(repr.plot.width = 6, repr.plot.height = 5)\n",
    "ggplot(all_bins_subsampled, aes(x=Class)) + geom_bar() + theme_bw()"
   ]
  },
  {
   "cell_type": "code",
   "execution_count": 126,
   "id": "b0a03bbd-5c4b-41ef-9c49-1f2dfef04e32",
   "metadata": {},
   "outputs": [
    {
     "data": {
      "image/png": "[encoded data removed]",
      "text/plain": [
       "plot without title"
      ]
     },
     "metadata": {
      "image/png": {
       "height": 300,
       "width": 900
      }
     },
     "output_type": "display_data"
    }
   ],
   "source": [
    "options(repr.plot.width = 15, repr.plot.height = 5)\n",
    "ggplot(all_bins_subsampled, aes(x=seqnames, fill=Class)) + geom_bar(position = position_dodge()) + theme_bw()"
   ]
  },
  {
   "cell_type": "code",
   "execution_count": 127,
   "id": "dcc0bdbb-8217-4462-8cfa-610e094c519c",
   "metadata": {},
   "outputs": [
    {
     "data": {
      "text/html": [
       "<table class=\"dataframe\">\n",
       "<caption>A tibble: 6 × 4</caption>\n",
       "<thead>\n",
       "\t<tr><th scope=col>seqnames</th><th scope=col>start</th><th scope=col>end</th><th scope=col>Class</th></tr>\n",
       "\t<tr><th scope=col>&lt;fct&gt;</th><th scope=col>&lt;int&gt;</th><th scope=col>&lt;int&gt;</th><th scope=col>&lt;fct&gt;</th></tr>\n",
       "</thead>\n",
       "<tbody>\n",
       "\t<tr><td>chr1</td><td> 29253001</td><td> 29253500</td><td>0</td></tr>\n",
       "\t<tr><td>chr1</td><td>123503001</td><td>123503500</td><td>0</td></tr>\n",
       "\t<tr><td>chr1</td><td> 27847501</td><td> 27848000</td><td>0</td></tr>\n",
       "\t<tr><td>chr1</td><td>190652501</td><td>190653000</td><td>0</td></tr>\n",
       "\t<tr><td>chr1</td><td>145807501</td><td>145808000</td><td>0</td></tr>\n",
       "\t<tr><td>chr1</td><td> 23295501</td><td> 23296000</td><td>0</td></tr>\n",
       "</tbody>\n",
       "</table>\n"
      ],
      "text/latex": [
       "A tibble: 6 × 4\n",
       "\\begin{tabular}{llll}\n",
       " seqnames & start & end & Class\\\\\n",
       " <fct> & <int> & <int> & <fct>\\\\\n",
       "\\hline\n",
       "\t chr1 &  29253001 &  29253500 & 0\\\\\n",
       "\t chr1 & 123503001 & 123503500 & 0\\\\\n",
       "\t chr1 &  27847501 &  27848000 & 0\\\\\n",
       "\t chr1 & 190652501 & 190653000 & 0\\\\\n",
       "\t chr1 & 145807501 & 145808000 & 0\\\\\n",
       "\t chr1 &  23295501 &  23296000 & 0\\\\\n",
       "\\end{tabular}\n"
      ],
      "text/markdown": [
       "\n",
       "A tibble: 6 × 4\n",
       "\n",
       "| seqnames &lt;fct&gt; | start &lt;int&gt; | end &lt;int&gt; | Class &lt;fct&gt; |\n",
       "|---|---|---|---|\n",
       "| chr1 |  29253001 |  29253500 | 0 |\n",
       "| chr1 | 123503001 | 123503500 | 0 |\n",
       "| chr1 |  27847501 |  27848000 | 0 |\n",
       "| chr1 | 190652501 | 190653000 | 0 |\n",
       "| chr1 | 145807501 | 145808000 | 0 |\n",
       "| chr1 |  23295501 |  23296000 | 0 |\n",
       "\n"
      ],
      "text/plain": [
       "  seqnames start     end       Class\n",
       "1 chr1      29253001  29253500 0    \n",
       "2 chr1     123503001 123503500 0    \n",
       "3 chr1      27847501  27848000 0    \n",
       "4 chr1     190652501 190653000 0    \n",
       "5 chr1     145807501 145808000 0    \n",
       "6 chr1      23295501  23296000 0    "
      ]
     },
     "metadata": {},
     "output_type": "display_data"
    }
   ],
   "source": [
    "head(all_bins_subsampled)"
   ]
  },
  {
   "cell_type": "markdown",
   "id": "9b8795d9-4a04-4939-8294-c152f37b0590",
   "metadata": {},
   "source": [
    "## Save results"
   ]
  },
  {
   "cell_type": "code",
   "execution_count": 128,
   "id": "e8ca9c1d-a3ed-43c0-836b-b2e47bdf59db",
   "metadata": {},
   "outputs": [],
   "source": [
    "colnames(all_bins_subsampled)[1] = \"chromosome\"\n",
    "readr::write_tsv(all_bins_subsampled, file=\"../data/example_ATACseq_data.tsv\")"
   ]
  }
 ],
 "metadata": {
  "kernelspec": {
   "display_name": "R",
   "language": "R",
   "name": "ir"
  },
  "language_info": {
   "codemirror_mode": "r",
   "file_extension": ".r",
   "mimetype": "text/x-r-source",
   "name": "R",
   "pygments_lexer": "r",
   "version": "4.0.2"
  }
 },
 "nbformat": 4,
 "nbformat_minor": 5
}
