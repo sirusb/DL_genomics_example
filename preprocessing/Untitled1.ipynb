{
 "cells": [
  {
   "cell_type": "code",
   "execution_count": 1,
   "id": "145c47c9-6c66-4289-ba28-df8193b6fbf7",
   "metadata": {},
   "outputs": [],
   "source": [
    "import os"
   ]
  },
  {
   "cell_type": "code",
   "execution_count": 2,
   "id": "a31383e4-ea35-4a22-9eeb-b9e252a19cd0",
   "metadata": {},
   "outputs": [],
   "source": [
    "os.chdir(\"..\")"
   ]
  },
  {
   "cell_type": "code",
   "execution_count": 8,
   "id": "571be316-8ebc-4b65-9d6c-876d2d347ce4",
   "metadata": {},
   "outputs": [],
   "source": [
    "from utils.config import process_config\n",
    "from utils.dirs import create_dirs\n",
    "from utils.utils import get_args\n",
    "from rich.console import Console\n",
    "from pathlib import  Path\n",
    "import json\n",
    "from dotmap import DotMap\n",
    "from data_loader.conv_atac_data_loader import  ConvATACseqDataLoader\n",
    "from models.conv_atac_model import ConvATACseqModel\n",
    "import tensorflow as tf"
   ]
  },
  {
   "cell_type": "code",
   "execution_count": 9,
   "id": "84e7aab6-1f4f-40cb-9a3b-fac42f00befb",
   "metadata": {},
   "outputs": [],
   "source": [
    "from utils.pwm import DEFAULT_BASE_BACKGROUND, pssm_array2pwm_array, _pwm2pwm_info\n",
    "from utils.plot import seqlogo, seqlogo_fig"
   ]
  },
  {
   "cell_type": "code",
   "execution_count": 10,
   "id": "11590fab-e543-4d1e-a295-596c318d7c51",
   "metadata": {},
   "outputs": [],
   "source": [
    "from tensorflow.keras.models import Model\n",
    "import numpy as np\n",
    "import pandas as pd\n",
    "import pickle\n",
    "from tqdm import tqdm"
   ]
  },
  {
   "cell_type": "code",
   "execution_count": 11,
   "id": "5fbd7738-e2ba-409f-9752-97abcb372189",
   "metadata": {},
   "outputs": [
    {
     "data": {
      "text/plain": [
       "DotMap(exp=DotMap(name='conv_atac_from_config'), data_loader=DotMap(name='ConvATACseqDataLoader'), model=DotMap(name='ConvATACseqModel', learning_rate=0.001, optimizer='adam', seq_len=500, nb_filters=200, nb_hidden=100, kern_size=19, dropout_rate=0.2, pooling_size=4, loss='binary_crossentropy', outname='ConvATACseq', use_pwminit=True), trainer=DotMap(name='ConvATACseqModelTrainer', num_epochs=50, batch_size=64, validation_split=0.25, verbose_training=True, train_chroms=['chr1', 'chr2', 'chr3', 'chr4', 'chr5', 'chr6', 'chr7'], test_chroms=['chr9', 'chr10', 'chr11']), callbacks=DotMap(checkpoint_monitor='val_loss', checkpoint_mode='min', checkpoint_save_best_only=True, checkpoint_save_weights_only=True, checkpoint_verbose=True, tensorboard_write_graph=True), data=DotMap(path='/home/mdjekide/tmp/ChipseqDNA_DL/data/example_ATACseq_data.tsv', pwm='/home/mdjekide/tmp/ChipseqDNA_DL/data/JASPAR2018_CORE_vertebrates_non-redundant.meme'), comet_api_key='Ctb3QHF7cNvJbKCOpxMaN9ngw', _ipython_display_=DotMap(), _repr_mimebundle_=DotMap())"
      ]
     },
     "execution_count": 11,
     "metadata": {},
     "output_type": "execute_result"
    }
   ],
   "source": [
    "json_file=\"configs/conv_chip_from_config.json\"\n",
    "with open(json_file, 'r') as config_file:\n",
    "        config_dict = json.load(config_file)\n",
    "\n",
    "# convert the dictionary to a namespace using bunch lib\n",
    "config = DotMap(config_dict)\n",
    "config"
   ]
  },
  {
   "cell_type": "code",
   "execution_count": 12,
   "id": "b7ffd791-7163-4a3f-912c-6ee43c9af980",
   "metadata": {},
   "outputs": [],
   "source": [
    "data_loader = ConvATACseqDataLoader(config)"
   ]
  },
  {
   "cell_type": "code",
   "execution_count": 13,
   "id": "abf541d8-a42f-4f94-82dd-ac8793db5b77",
   "metadata": {},
   "outputs": [
    {
     "data": {
      "text/html": [
       "<pre style=\"white-space:pre;overflow-x:auto;line-height:normal;font-family:Menlo,'DejaVu Sans Mono',consolas,'Courier New',monospace\">Loading training data <span style=\"color: #808000; text-decoration-color: #808000\">...</span>\n",
       "</pre>\n"
      ],
      "text/plain": [
       "Loading training data \u001b[33m...\u001b[0m\n"
      ]
     },
     "metadata": {},
     "output_type": "display_data"
    },
    {
     "name": "stderr",
     "output_type": "stream",
     "text": [
      "100%|███████████████████████████████████████████████████████████████████████████████████████████████████████████████████████████| 177331/177331 [00:11<00:00, 15261.39it/s]\n"
     ]
    },
    {
     "data": {
      "text/html": [
       "<pre style=\"white-space:pre;overflow-x:auto;line-height:normal;font-family:Menlo,'DejaVu Sans Mono',consolas,'Courier New',monospace\"><span style=\"color: #800000; text-decoration-color: #800000; font-weight: bold\">Loaded </span><span style=\"color: #800000; text-decoration-color: #800000; font-weight: bold\">177331</span><span style=\"color: #800000; text-decoration-color: #800000; font-weight: bold\"> sequences.</span>\n",
       "</pre>\n"
      ],
      "text/plain": [
       "\u001b[1;31mLoaded \u001b[0m\u001b[1;31m177331\u001b[0m\u001b[1;31m sequences.\u001b[0m\n"
      ]
     },
     "metadata": {},
     "output_type": "display_data"
    },
    {
     "data": {
      "text/html": [
       "<pre style=\"white-space:pre;overflow-x:auto;line-height:normal;font-family:Menlo,'DejaVu Sans Mono',consolas,'Courier New',monospace\">Hot-encoding.\n",
       "</pre>\n"
      ],
      "text/plain": [
       "Hot-encoding.\n"
      ]
     },
     "metadata": {},
     "output_type": "display_data"
    }
   ],
   "source": [
    "data = data_loader.get_train_data()"
   ]
  },
  {
   "cell_type": "code",
   "execution_count": 7,
   "id": "4de0a653-89da-4a07-88e7-0180553e0b77",
   "metadata": {
    "collapsed": true,
    "jupyter": {
     "outputs_hidden": true
    },
    "tags": []
   },
   "outputs": [
    {
     "name": "stderr",
     "output_type": "stream",
     "text": [
      "2021-08-22 12:37:22.503294: I tensorflow/stream_executor/platform/default/dso_loader.cc:53] Successfully opened dynamic library libcuda.so.1\n",
      "2021-08-22 12:37:22.514080: I tensorflow/core/common_runtime/gpu/gpu_device.cc:1733] Found device 0 with properties: \n",
      "pciBusID: 0000:81:00.0 name: Tesla P100-PCIE-16GB computeCapability: 6.0\n",
      "coreClock: 1.3285GHz coreCount: 56 deviceMemorySize: 15.90GiB deviceMemoryBandwidth: 681.88GiB/s\n",
      "2021-08-22 12:37:22.514432: W tensorflow/stream_executor/platform/default/dso_loader.cc:64] Could not load dynamic library 'libcudart.so.11.0'; dlerror: libcudart.so.11.0: cannot open shared object file: No such file or directory; LD_LIBRARY_PATH: /hpcf/authorized_apps/rhel7_apps/R/install/4.0.2/lib64/R/lib:/hpcf/authorized_apps/rhel7_apps/geos/install/3.8.1/lib:/hpcf/authorized_apps/rhel7_apps/gdal/install/3.1.2/lib:/hpcf/authorized_apps/rhel7_apps/proj/install/v6/lib:/hpcf/authorized_apps/rhel7_apps/gcc/install/8.3.0/lib64:/hpcf/lsf/lsf_prod/10.1/linux3.10-glibc2.17-x86_64/lib\n",
      "2021-08-22 12:37:22.514803: W tensorflow/stream_executor/platform/default/dso_loader.cc:64] Could not load dynamic library 'libcublas.so.11'; dlerror: libcublas.so.11: cannot open shared object file: No such file or directory; LD_LIBRARY_PATH: /hpcf/authorized_apps/rhel7_apps/R/install/4.0.2/lib64/R/lib:/hpcf/authorized_apps/rhel7_apps/geos/install/3.8.1/lib:/hpcf/authorized_apps/rhel7_apps/gdal/install/3.1.2/lib:/hpcf/authorized_apps/rhel7_apps/proj/install/v6/lib:/hpcf/authorized_apps/rhel7_apps/gcc/install/8.3.0/lib64:/hpcf/lsf/lsf_prod/10.1/linux3.10-glibc2.17-x86_64/lib\n",
      "2021-08-22 12:37:22.515130: W tensorflow/stream_executor/platform/default/dso_loader.cc:64] Could not load dynamic library 'libcublasLt.so.11'; dlerror: libcublasLt.so.11: cannot open shared object file: No such file or directory; LD_LIBRARY_PATH: /hpcf/authorized_apps/rhel7_apps/R/install/4.0.2/lib64/R/lib:/hpcf/authorized_apps/rhel7_apps/geos/install/3.8.1/lib:/hpcf/authorized_apps/rhel7_apps/gdal/install/3.1.2/lib:/hpcf/authorized_apps/rhel7_apps/proj/install/v6/lib:/hpcf/authorized_apps/rhel7_apps/gcc/install/8.3.0/lib64:/hpcf/lsf/lsf_prod/10.1/linux3.10-glibc2.17-x86_64/lib\n",
      "2021-08-22 12:37:22.519145: I tensorflow/stream_executor/platform/default/dso_loader.cc:53] Successfully opened dynamic library libcufft.so.10\n",
      "2021-08-22 12:37:22.521003: I tensorflow/stream_executor/platform/default/dso_loader.cc:53] Successfully opened dynamic library libcurand.so.10\n",
      "2021-08-22 12:37:22.521382: W tensorflow/stream_executor/platform/default/dso_loader.cc:64] Could not load dynamic library 'libcusolver.so.11'; dlerror: libcusolver.so.11: cannot open shared object file: No such file or directory; LD_LIBRARY_PATH: /hpcf/authorized_apps/rhel7_apps/R/install/4.0.2/lib64/R/lib:/hpcf/authorized_apps/rhel7_apps/geos/install/3.8.1/lib:/hpcf/authorized_apps/rhel7_apps/gdal/install/3.1.2/lib:/hpcf/authorized_apps/rhel7_apps/proj/install/v6/lib:/hpcf/authorized_apps/rhel7_apps/gcc/install/8.3.0/lib64:/hpcf/lsf/lsf_prod/10.1/linux3.10-glibc2.17-x86_64/lib\n",
      "2021-08-22 12:37:22.521732: W tensorflow/stream_executor/platform/default/dso_loader.cc:64] Could not load dynamic library 'libcusparse.so.11'; dlerror: libcusparse.so.11: cannot open shared object file: No such file or directory; LD_LIBRARY_PATH: /hpcf/authorized_apps/rhel7_apps/R/install/4.0.2/lib64/R/lib:/hpcf/authorized_apps/rhel7_apps/geos/install/3.8.1/lib:/hpcf/authorized_apps/rhel7_apps/gdal/install/3.1.2/lib:/hpcf/authorized_apps/rhel7_apps/proj/install/v6/lib:/hpcf/authorized_apps/rhel7_apps/gcc/install/8.3.0/lib64:/hpcf/lsf/lsf_prod/10.1/linux3.10-glibc2.17-x86_64/lib\n",
      "2021-08-22 12:37:22.522064: W tensorflow/stream_executor/platform/default/dso_loader.cc:64] Could not load dynamic library 'libcudnn.so.8'; dlerror: libcudnn.so.8: cannot open shared object file: No such file or directory; LD_LIBRARY_PATH: /hpcf/authorized_apps/rhel7_apps/R/install/4.0.2/lib64/R/lib:/hpcf/authorized_apps/rhel7_apps/geos/install/3.8.1/lib:/hpcf/authorized_apps/rhel7_apps/gdal/install/3.1.2/lib:/hpcf/authorized_apps/rhel7_apps/proj/install/v6/lib:/hpcf/authorized_apps/rhel7_apps/gcc/install/8.3.0/lib64:/hpcf/lsf/lsf_prod/10.1/linux3.10-glibc2.17-x86_64/lib\n",
      "2021-08-22 12:37:22.522084: W tensorflow/core/common_runtime/gpu/gpu_device.cc:1766] Cannot dlopen some GPU libraries. Please make sure the missing libraries mentioned above are installed properly if you would like to use GPU. Follow the guide at https://www.tensorflow.org/install/gpu for how to download and setup the required libraries for your platform.\n",
      "Skipping registering GPU devices...\n",
      "2021-08-22 12:37:22.522611: I tensorflow/core/platform/cpu_feature_guard.cc:142] This TensorFlow binary is optimized with oneAPI Deep Neural Network Library (oneDNN) to use the following CPU instructions in performance-critical operations:  AVX2 FMA\n",
      "To enable them in other operations, rebuild TensorFlow with the appropriate compiler flags.\n",
      "2021-08-22 12:37:22.523947: I tensorflow/core/common_runtime/gpu/gpu_device.cc:1258] Device interconnect StreamExecutor with strength 1 edge matrix:\n",
      "2021-08-22 12:37:22.523962: I tensorflow/core/common_runtime/gpu/gpu_device.cc:1264]      \n"
     ]
    },
    {
     "ename": "JSONDecodeError",
     "evalue": "Expecting value: line 1 column 1 (char 0)",
     "output_type": "error",
     "traceback": [
      "\u001b[0;31m---------------------------------------------------------------------------\u001b[0m",
      "\u001b[0;31mJSONDecodeError\u001b[0m                           Traceback (most recent call last)",
      "\u001b[0;32m/lsf_tmp/139206896.tmpdir/ipykernel_8233/1015941552.py\u001b[0m in \u001b[0;36m<module>\u001b[0;34m\u001b[0m\n\u001b[0;32m----> 1\u001b[0;31m \u001b[0mmodel\u001b[0m \u001b[0;34m=\u001b[0m \u001b[0mtf\u001b[0m\u001b[0;34m.\u001b[0m\u001b[0mkeras\u001b[0m\u001b[0;34m.\u001b[0m\u001b[0mmodels\u001b[0m\u001b[0;34m.\u001b[0m\u001b[0mload_model\u001b[0m\u001b[0;34m(\u001b[0m\u001b[0;34m\"experiments/2021-08-22/conv_atac_from_config/models/ConvATACseqModel\"\u001b[0m\u001b[0;34m)\u001b[0m\u001b[0;34m\u001b[0m\u001b[0;34m\u001b[0m\u001b[0m\n\u001b[0m",
      "\u001b[0;32m~/miniconda3/envs/tf-gpu/lib/python3.9/site-packages/tensorflow/python/keras/saving/save.py\u001b[0m in \u001b[0;36mload_model\u001b[0;34m(filepath, custom_objects, compile, options)\u001b[0m\n\u001b[1;32m    204\u001b[0m         \u001b[0mfilepath\u001b[0m \u001b[0;34m=\u001b[0m \u001b[0mpath_to_string\u001b[0m\u001b[0;34m(\u001b[0m\u001b[0mfilepath\u001b[0m\u001b[0;34m)\u001b[0m\u001b[0;34m\u001b[0m\u001b[0;34m\u001b[0m\u001b[0m\n\u001b[1;32m    205\u001b[0m         \u001b[0;32mif\u001b[0m \u001b[0misinstance\u001b[0m\u001b[0;34m(\u001b[0m\u001b[0mfilepath\u001b[0m\u001b[0;34m,\u001b[0m \u001b[0mstr\u001b[0m\u001b[0;34m)\u001b[0m\u001b[0;34m:\u001b[0m\u001b[0;34m\u001b[0m\u001b[0;34m\u001b[0m\u001b[0m\n\u001b[0;32m--> 206\u001b[0;31m           \u001b[0;32mreturn\u001b[0m \u001b[0msaved_model_load\u001b[0m\u001b[0;34m.\u001b[0m\u001b[0mload\u001b[0m\u001b[0;34m(\u001b[0m\u001b[0mfilepath\u001b[0m\u001b[0;34m,\u001b[0m \u001b[0mcompile\u001b[0m\u001b[0;34m,\u001b[0m \u001b[0moptions\u001b[0m\u001b[0;34m)\u001b[0m\u001b[0;34m\u001b[0m\u001b[0;34m\u001b[0m\u001b[0m\n\u001b[0m\u001b[1;32m    207\u001b[0m \u001b[0;34m\u001b[0m\u001b[0m\n\u001b[1;32m    208\u001b[0m   raise IOError(\n",
      "\u001b[0;32m~/miniconda3/envs/tf-gpu/lib/python3.9/site-packages/tensorflow/python/keras/saving/saved_model/load.py\u001b[0m in \u001b[0;36mload\u001b[0;34m(path, compile, options)\u001b[0m\n\u001b[1;32m    153\u001b[0m \u001b[0;34m\u001b[0m\u001b[0m\n\u001b[1;32m    154\u001b[0m   \u001b[0;31m# Finalize the loaded layers and remove the extra tracked dependencies.\u001b[0m\u001b[0;34m\u001b[0m\u001b[0;34m\u001b[0m\u001b[0;34m\u001b[0m\u001b[0m\n\u001b[0;32m--> 155\u001b[0;31m   \u001b[0mkeras_loader\u001b[0m\u001b[0;34m.\u001b[0m\u001b[0mfinalize_objects\u001b[0m\u001b[0;34m(\u001b[0m\u001b[0;34m)\u001b[0m\u001b[0;34m\u001b[0m\u001b[0;34m\u001b[0m\u001b[0m\n\u001b[0m\u001b[1;32m    156\u001b[0m   \u001b[0mkeras_loader\u001b[0m\u001b[0;34m.\u001b[0m\u001b[0mdel_tracking\u001b[0m\u001b[0;34m(\u001b[0m\u001b[0;34m)\u001b[0m\u001b[0;34m\u001b[0m\u001b[0;34m\u001b[0m\u001b[0m\n\u001b[1;32m    157\u001b[0m \u001b[0;34m\u001b[0m\u001b[0m\n",
      "\u001b[0;32m~/miniconda3/envs/tf-gpu/lib/python3.9/site-packages/tensorflow/python/keras/saving/saved_model/load.py\u001b[0m in \u001b[0;36mfinalize_objects\u001b[0;34m(self)\u001b[0m\n\u001b[1;32m    624\u001b[0m \u001b[0;34m\u001b[0m\u001b[0m\n\u001b[1;32m    625\u001b[0m     \u001b[0;31m# Initialize graph networks, now that layer dependencies have been resolved.\u001b[0m\u001b[0;34m\u001b[0m\u001b[0;34m\u001b[0m\u001b[0;34m\u001b[0m\u001b[0m\n\u001b[0;32m--> 626\u001b[0;31m     \u001b[0mself\u001b[0m\u001b[0;34m.\u001b[0m\u001b[0m_reconstruct_all_models\u001b[0m\u001b[0;34m(\u001b[0m\u001b[0;34m)\u001b[0m\u001b[0;34m\u001b[0m\u001b[0;34m\u001b[0m\u001b[0m\n\u001b[0m\u001b[1;32m    627\u001b[0m \u001b[0;34m\u001b[0m\u001b[0m\n\u001b[1;32m    628\u001b[0m   \u001b[0;32mdef\u001b[0m \u001b[0m_unblock_model_reconstruction\u001b[0m\u001b[0;34m(\u001b[0m\u001b[0mself\u001b[0m\u001b[0;34m,\u001b[0m \u001b[0mlayer_id\u001b[0m\u001b[0;34m,\u001b[0m \u001b[0mlayer\u001b[0m\u001b[0;34m)\u001b[0m\u001b[0;34m:\u001b[0m\u001b[0;34m\u001b[0m\u001b[0;34m\u001b[0m\u001b[0m\n",
      "\u001b[0;32m~/miniconda3/envs/tf-gpu/lib/python3.9/site-packages/tensorflow/python/keras/saving/saved_model/load.py\u001b[0m in \u001b[0;36m_reconstruct_all_models\u001b[0;34m(self)\u001b[0m\n\u001b[1;32m    643\u001b[0m       \u001b[0mall_initialized_models\u001b[0m\u001b[0;34m.\u001b[0m\u001b[0madd\u001b[0m\u001b[0;34m(\u001b[0m\u001b[0mmodel_id\u001b[0m\u001b[0;34m)\u001b[0m\u001b[0;34m\u001b[0m\u001b[0;34m\u001b[0m\u001b[0m\n\u001b[1;32m    644\u001b[0m       \u001b[0mmodel\u001b[0m\u001b[0;34m,\u001b[0m \u001b[0mlayers\u001b[0m \u001b[0;34m=\u001b[0m \u001b[0mself\u001b[0m\u001b[0;34m.\u001b[0m\u001b[0mmodel_layer_dependencies\u001b[0m\u001b[0;34m[\u001b[0m\u001b[0mmodel_id\u001b[0m\u001b[0;34m]\u001b[0m\u001b[0;34m\u001b[0m\u001b[0;34m\u001b[0m\u001b[0m\n\u001b[0;32m--> 645\u001b[0;31m       \u001b[0mself\u001b[0m\u001b[0;34m.\u001b[0m\u001b[0m_reconstruct_model\u001b[0m\u001b[0;34m(\u001b[0m\u001b[0mmodel_id\u001b[0m\u001b[0;34m,\u001b[0m \u001b[0mmodel\u001b[0m\u001b[0;34m,\u001b[0m \u001b[0mlayers\u001b[0m\u001b[0;34m)\u001b[0m\u001b[0;34m\u001b[0m\u001b[0;34m\u001b[0m\u001b[0m\n\u001b[0m\u001b[1;32m    646\u001b[0m       \u001b[0m_finalize_config_layers\u001b[0m\u001b[0;34m(\u001b[0m\u001b[0;34m[\u001b[0m\u001b[0mmodel\u001b[0m\u001b[0;34m]\u001b[0m\u001b[0;34m)\u001b[0m\u001b[0;34m\u001b[0m\u001b[0;34m\u001b[0m\u001b[0m\n\u001b[1;32m    647\u001b[0m \u001b[0;34m\u001b[0m\u001b[0m\n",
      "\u001b[0;32m~/miniconda3/envs/tf-gpu/lib/python3.9/site-packages/tensorflow/python/keras/saving/saved_model/load.py\u001b[0m in \u001b[0;36m_reconstruct_model\u001b[0;34m(self, model_id, model, layers)\u001b[0m\n\u001b[1;32m    659\u001b[0m   \u001b[0;32mdef\u001b[0m \u001b[0m_reconstruct_model\u001b[0m\u001b[0;34m(\u001b[0m\u001b[0mself\u001b[0m\u001b[0;34m,\u001b[0m \u001b[0mmodel_id\u001b[0m\u001b[0;34m,\u001b[0m \u001b[0mmodel\u001b[0m\u001b[0;34m,\u001b[0m \u001b[0mlayers\u001b[0m\u001b[0;34m)\u001b[0m\u001b[0;34m:\u001b[0m\u001b[0;34m\u001b[0m\u001b[0;34m\u001b[0m\u001b[0m\n\u001b[1;32m    660\u001b[0m     \u001b[0;34m\"\"\"Reconstructs the network structure.\"\"\"\u001b[0m\u001b[0;34m\u001b[0m\u001b[0;34m\u001b[0m\u001b[0m\n\u001b[0;32m--> 661\u001b[0;31m     config = json_utils.decode(\n\u001b[0m\u001b[1;32m    662\u001b[0m         self._proto.nodes[model_id].user_object.metadata)['config']\n\u001b[1;32m    663\u001b[0m \u001b[0;34m\u001b[0m\u001b[0m\n",
      "\u001b[0;32m~/miniconda3/envs/tf-gpu/lib/python3.9/site-packages/tensorflow/python/keras/saving/saved_model/json_utils.py\u001b[0m in \u001b[0;36mdecode\u001b[0;34m(json_string)\u001b[0m\n\u001b[1;32m     60\u001b[0m \u001b[0;34m\u001b[0m\u001b[0m\n\u001b[1;32m     61\u001b[0m \u001b[0;32mdef\u001b[0m \u001b[0mdecode\u001b[0m\u001b[0;34m(\u001b[0m\u001b[0mjson_string\u001b[0m\u001b[0;34m)\u001b[0m\u001b[0;34m:\u001b[0m\u001b[0;34m\u001b[0m\u001b[0;34m\u001b[0m\u001b[0m\n\u001b[0;32m---> 62\u001b[0;31m   \u001b[0;32mreturn\u001b[0m \u001b[0mjson\u001b[0m\u001b[0;34m.\u001b[0m\u001b[0mloads\u001b[0m\u001b[0;34m(\u001b[0m\u001b[0mjson_string\u001b[0m\u001b[0;34m,\u001b[0m \u001b[0mobject_hook\u001b[0m\u001b[0;34m=\u001b[0m\u001b[0m_decode_helper\u001b[0m\u001b[0;34m)\u001b[0m\u001b[0;34m\u001b[0m\u001b[0;34m\u001b[0m\u001b[0m\n\u001b[0m\u001b[1;32m     63\u001b[0m \u001b[0;34m\u001b[0m\u001b[0m\n\u001b[1;32m     64\u001b[0m \u001b[0;34m\u001b[0m\u001b[0m\n",
      "\u001b[0;32m~/miniconda3/envs/tf-gpu/lib/python3.9/json/__init__.py\u001b[0m in \u001b[0;36mloads\u001b[0;34m(s, cls, object_hook, parse_float, parse_int, parse_constant, object_pairs_hook, **kw)\u001b[0m\n\u001b[1;32m    357\u001b[0m     \u001b[0;32mif\u001b[0m \u001b[0mparse_constant\u001b[0m \u001b[0;32mis\u001b[0m \u001b[0;32mnot\u001b[0m \u001b[0;32mNone\u001b[0m\u001b[0;34m:\u001b[0m\u001b[0;34m\u001b[0m\u001b[0;34m\u001b[0m\u001b[0m\n\u001b[1;32m    358\u001b[0m         \u001b[0mkw\u001b[0m\u001b[0;34m[\u001b[0m\u001b[0;34m'parse_constant'\u001b[0m\u001b[0;34m]\u001b[0m \u001b[0;34m=\u001b[0m \u001b[0mparse_constant\u001b[0m\u001b[0;34m\u001b[0m\u001b[0;34m\u001b[0m\u001b[0m\n\u001b[0;32m--> 359\u001b[0;31m     \u001b[0;32mreturn\u001b[0m \u001b[0mcls\u001b[0m\u001b[0;34m(\u001b[0m\u001b[0;34m**\u001b[0m\u001b[0mkw\u001b[0m\u001b[0;34m)\u001b[0m\u001b[0;34m.\u001b[0m\u001b[0mdecode\u001b[0m\u001b[0;34m(\u001b[0m\u001b[0ms\u001b[0m\u001b[0;34m)\u001b[0m\u001b[0;34m\u001b[0m\u001b[0;34m\u001b[0m\u001b[0m\n\u001b[0m",
      "\u001b[0;32m~/miniconda3/envs/tf-gpu/lib/python3.9/json/decoder.py\u001b[0m in \u001b[0;36mdecode\u001b[0;34m(self, s, _w)\u001b[0m\n\u001b[1;32m    335\u001b[0m \u001b[0;34m\u001b[0m\u001b[0m\n\u001b[1;32m    336\u001b[0m         \"\"\"\n\u001b[0;32m--> 337\u001b[0;31m         \u001b[0mobj\u001b[0m\u001b[0;34m,\u001b[0m \u001b[0mend\u001b[0m \u001b[0;34m=\u001b[0m \u001b[0mself\u001b[0m\u001b[0;34m.\u001b[0m\u001b[0mraw_decode\u001b[0m\u001b[0;34m(\u001b[0m\u001b[0ms\u001b[0m\u001b[0;34m,\u001b[0m \u001b[0midx\u001b[0m\u001b[0;34m=\u001b[0m\u001b[0m_w\u001b[0m\u001b[0;34m(\u001b[0m\u001b[0ms\u001b[0m\u001b[0;34m,\u001b[0m \u001b[0;36m0\u001b[0m\u001b[0;34m)\u001b[0m\u001b[0;34m.\u001b[0m\u001b[0mend\u001b[0m\u001b[0;34m(\u001b[0m\u001b[0;34m)\u001b[0m\u001b[0;34m)\u001b[0m\u001b[0;34m\u001b[0m\u001b[0;34m\u001b[0m\u001b[0m\n\u001b[0m\u001b[1;32m    338\u001b[0m         \u001b[0mend\u001b[0m \u001b[0;34m=\u001b[0m \u001b[0m_w\u001b[0m\u001b[0;34m(\u001b[0m\u001b[0ms\u001b[0m\u001b[0;34m,\u001b[0m \u001b[0mend\u001b[0m\u001b[0;34m)\u001b[0m\u001b[0;34m.\u001b[0m\u001b[0mend\u001b[0m\u001b[0;34m(\u001b[0m\u001b[0;34m)\u001b[0m\u001b[0;34m\u001b[0m\u001b[0;34m\u001b[0m\u001b[0m\n\u001b[1;32m    339\u001b[0m         \u001b[0;32mif\u001b[0m \u001b[0mend\u001b[0m \u001b[0;34m!=\u001b[0m \u001b[0mlen\u001b[0m\u001b[0;34m(\u001b[0m\u001b[0ms\u001b[0m\u001b[0;34m)\u001b[0m\u001b[0;34m:\u001b[0m\u001b[0;34m\u001b[0m\u001b[0;34m\u001b[0m\u001b[0m\n",
      "\u001b[0;32m~/miniconda3/envs/tf-gpu/lib/python3.9/json/decoder.py\u001b[0m in \u001b[0;36mraw_decode\u001b[0;34m(self, s, idx)\u001b[0m\n\u001b[1;32m    353\u001b[0m             \u001b[0mobj\u001b[0m\u001b[0;34m,\u001b[0m \u001b[0mend\u001b[0m \u001b[0;34m=\u001b[0m \u001b[0mself\u001b[0m\u001b[0;34m.\u001b[0m\u001b[0mscan_once\u001b[0m\u001b[0;34m(\u001b[0m\u001b[0ms\u001b[0m\u001b[0;34m,\u001b[0m \u001b[0midx\u001b[0m\u001b[0;34m)\u001b[0m\u001b[0;34m\u001b[0m\u001b[0;34m\u001b[0m\u001b[0m\n\u001b[1;32m    354\u001b[0m         \u001b[0;32mexcept\u001b[0m \u001b[0mStopIteration\u001b[0m \u001b[0;32mas\u001b[0m \u001b[0merr\u001b[0m\u001b[0;34m:\u001b[0m\u001b[0;34m\u001b[0m\u001b[0;34m\u001b[0m\u001b[0m\n\u001b[0;32m--> 355\u001b[0;31m             \u001b[0;32mraise\u001b[0m \u001b[0mJSONDecodeError\u001b[0m\u001b[0;34m(\u001b[0m\u001b[0;34m\"Expecting value\"\u001b[0m\u001b[0;34m,\u001b[0m \u001b[0ms\u001b[0m\u001b[0;34m,\u001b[0m \u001b[0merr\u001b[0m\u001b[0;34m.\u001b[0m\u001b[0mvalue\u001b[0m\u001b[0;34m)\u001b[0m \u001b[0;32mfrom\u001b[0m \u001b[0;32mNone\u001b[0m\u001b[0;34m\u001b[0m\u001b[0;34m\u001b[0m\u001b[0m\n\u001b[0m\u001b[1;32m    356\u001b[0m         \u001b[0;32mreturn\u001b[0m \u001b[0mobj\u001b[0m\u001b[0;34m,\u001b[0m \u001b[0mend\u001b[0m\u001b[0;34m\u001b[0m\u001b[0;34m\u001b[0m\u001b[0m\n",
      "\u001b[0;31mJSONDecodeError\u001b[0m: Expecting value: line 1 column 1 (char 0)"
     ]
    }
   ],
   "source": [
    "model = tf.keras.models.load_model(\"experiments/2021-08-22/conv_atac_from_config/models/ConvATACseqModel\")"
   ]
  },
  {
   "cell_type": "code",
   "execution_count": null,
   "id": "3b333b10-2e4e-4435-8d99-3c1c780281b5",
   "metadata": {},
   "outputs": [],
   "source": [
    "model.summary()"
   ]
  },
  {
   "cell_type": "code",
   "execution_count": null,
   "id": "fbee0ef5-b99a-49a5-8384-61ea89e21c30",
   "metadata": {},
   "outputs": [],
   "source": [
    "kernels = model.get_layer(\"conv1d\").get_weights()"
   ]
  },
  {
   "cell_type": "code",
   "execution_count": null,
   "id": "ed2e07fe-6fed-42e9-b147-3e35e6774c44",
   "metadata": {},
   "outputs": [],
   "source": [
    "kernels[0].shape"
   ]
  },
  {
   "cell_type": "code",
   "execution_count": 6,
   "id": "465ff54c-793d-4e0a-bfa9-b3e7f88f6a8f",
   "metadata": {},
   "outputs": [
    {
     "ename": "NameError",
     "evalue": "name 'kernels' is not defined",
     "output_type": "error",
     "traceback": [
      "\u001b[0;31m---------------------------------------------------------------------------\u001b[0m",
      "\u001b[0;31mNameError\u001b[0m                                 Traceback (most recent call last)",
      "\u001b[0;32m/lsf_tmp/139206896.tmpdir/ipykernel_18486/2931314090.py\u001b[0m in \u001b[0;36m<module>\u001b[0;34m\u001b[0m\n\u001b[0;32m----> 1\u001b[0;31m \u001b[0mkernels\u001b[0m\u001b[0;34m[\u001b[0m\u001b[0;36m0\u001b[0m\u001b[0;34m]\u001b[0m\u001b[0;34m[\u001b[0m\u001b[0;34m:\u001b[0m\u001b[0;34m,\u001b[0m\u001b[0;34m:\u001b[0m\u001b[0;34m,\u001b[0m\u001b[0;36m0\u001b[0m\u001b[0;34m]\u001b[0m\u001b[0;34m\u001b[0m\u001b[0;34m\u001b[0m\u001b[0m\n\u001b[0m",
      "\u001b[0;31mNameError\u001b[0m: name 'kernels' is not defined"
     ]
    }
   ],
   "source": [
    "kernels[0][:,:,0]"
   ]
  },
  {
   "cell_type": "code",
   "execution_count": 37,
   "id": "387cd5cc-8750-4fd8-8ef3-17e379040e6c",
   "metadata": {},
   "outputs": [
    {
     "data": {
      "text/plain": [
       "(200,)"
      ]
     },
     "execution_count": 37,
     "metadata": {},
     "output_type": "execute_result"
    }
   ],
   "source": [
    "kernels[1].shape"
   ]
  },
  {
   "cell_type": "code",
   "execution_count": 43,
   "id": "11229d59-259f-48df-99ba-69452bf28c98",
   "metadata": {},
   "outputs": [
    {
     "data": {
      "text/plain": [
       "[{0: 5.120253e-34},\n",
       " {1: 5.8079454e-34},\n",
       " {2: 5.632032e-34},\n",
       " {3: 5.140716e-34},\n",
       " {4: 5.6668103e-34},\n",
       " {5: 3.5687627e-34},\n",
       " {6: 5.6493216e-34},\n",
       " {7: 5.7916685e-34},\n",
       " {8: 5.758631e-34},\n",
       " {9: 5.0837187e-34},\n",
       " {10: 5.657499e-34},\n",
       " {11: 5.8121386e-34},\n",
       " {12: 4.739731e-34},\n",
       " {13: 3.799786e-34},\n",
       " {14: 5.8365443e-34},\n",
       " {15: 5.7287837e-34},\n",
       " {16: 5.7716263e-34},\n",
       " {17: 5.3630823e-34},\n",
       " {18: 5.33341e-34},\n",
       " {19: 5.535445e-34},\n",
       " {20: 5.6459705e-34},\n",
       " {21: 5.8587883e-34},\n",
       " {22: 4.0940834e-34},\n",
       " {23: 5.7538304e-34},\n",
       " {24: 5.489712e-34},\n",
       " {25: 5.267129e-34},\n",
       " {26: 5.197801e-34},\n",
       " {27: 5.0562374e-34},\n",
       " {28: 5.426819e-34},\n",
       " {29: 4.1611453e-34},\n",
       " {30: 5.061303e-34},\n",
       " {31: 5.46127e-34},\n",
       " {32: 5.2409085e-34},\n",
       " {33: 4.8441525e-34},\n",
       " {34: 7.049168e-35},\n",
       " {35: 5.8380105e-34},\n",
       " {36: 5.6806e-34},\n",
       " {37: 3.1423476e-34},\n",
       " {38: 5.783648e-34},\n",
       " {39: 5.296644e-34},\n",
       " {40: 4.043674e-34},\n",
       " {41: 5.2222305e-34},\n",
       " {42: 5.729625e-34},\n",
       " {43: 3.1179118e-34},\n",
       " {44: 4.2075585e-34},\n",
       " {45: 5.7095565e-34},\n",
       " {46: 5.057631e-34},\n",
       " {47: 5.3470024e-34},\n",
       " {48: 4.7772375e-34},\n",
       " {49: 5.8771935e-34},\n",
       " {50: 0.34062326},\n",
       " {51: 5.0018433e-34},\n",
       " {52: 5.809905e-34},\n",
       " {53: 5.3441862e-34},\n",
       " {54: 5.419952e-34},\n",
       " {55: 5.752156e-34},\n",
       " {56: 5.417591e-34},\n",
       " {57: 5.1259667e-34},\n",
       " {58: 4.754064e-34},\n",
       " {59: 5.6677544e-34},\n",
       " {60: 3.811055e-34},\n",
       " {61: 5.4812737e-34},\n",
       " {62: 5.544954e-34},\n",
       " {63: 5.5412404e-34},\n",
       " {64: 5.175161e-34},\n",
       " {65: 2.7604037e-34},\n",
       " {66: 5.4751317e-34},\n",
       " {67: 5.845978e-34},\n",
       " {68: 5.7789382e-34},\n",
       " {69: 5.66154e-34},\n",
       " {70: -1.0500339e-34},\n",
       " {71: 5.6592123e-34},\n",
       " {72: 5.7865583e-34},\n",
       " {73: 4.3799957e-34},\n",
       " {74: 5.4914725e-34},\n",
       " {75: 5.746619e-34},\n",
       " {76: 5.664379e-34},\n",
       " {77: 5.7115553e-34},\n",
       " {78: 5.7506166e-34},\n",
       " {79: 5.7760234e-34},\n",
       " {80: 5.8132732e-34},\n",
       " {81: 5.8427515e-34},\n",
       " {82: 5.2662257e-34},\n",
       " {83: 5.4694825e-34},\n",
       " {84: 5.739866e-34},\n",
       " {85: 5.8334256e-34},\n",
       " {86: 5.7633202e-34},\n",
       " {87: 5.8005586e-34},\n",
       " {88: 5.7818885e-34},\n",
       " {89: 5.5268654e-34},\n",
       " {90: 5.205764e-34},\n",
       " {91: 2.5913885e-34},\n",
       " {92: 5.367845e-34},\n",
       " {93: 5.402991e-34},\n",
       " {94: 5.407191e-34},\n",
       " {95: 5.2808087e-34},\n",
       " {96: 0.2784557},\n",
       " {97: -3.0864082e-35},\n",
       " {98: 5.3758387e-34},\n",
       " {99: 5.71699e-34},\n",
       " {100: 5.717645e-34},\n",
       " {101: 4.3400643e-34},\n",
       " {102: 5.1360732e-34},\n",
       " {103: 5.7348113e-34},\n",
       " {104: 4.699192e-34},\n",
       " {105: 5.467005e-34},\n",
       " {106: 4.2185985e-34},\n",
       " {107: 5.302234e-34},\n",
       " {108: 4.9931377e-34},\n",
       " {109: 5.2388716e-34},\n",
       " {110: 4.3765193e-34},\n",
       " {111: 4.035705e-34},\n",
       " {112: 5.820548e-34},\n",
       " {113: 5.6238e-34},\n",
       " {114: 5.1529306e-34},\n",
       " {115: 5.1290547e-34},\n",
       " {116: 5.614754e-34},\n",
       " {117: 5.4014186e-34},\n",
       " {118: 5.8048427e-34},\n",
       " {119: 4.966786e-34},\n",
       " {120: 4.702029e-34},\n",
       " {121: 5.6569224e-34},\n",
       " {122: 3.385586e-34},\n",
       " {123: 3.7451248e-34},\n",
       " {124: 5.34575e-34},\n",
       " {125: 5.8194074e-34},\n",
       " {126: 5.851322e-34},\n",
       " {127: 5.7674097e-34},\n",
       " {128: 4.703835e-34},\n",
       " {129: 5.5601448e-34},\n",
       " {130: 5.8109034e-34},\n",
       " {131: 3.5495824e-34},\n",
       " {132: 5.537625e-34},\n",
       " {133: 5.1029583e-34},\n",
       " {134: 5.411575e-34},\n",
       " {135: 0.13859008},\n",
       " {136: 5.6352106e-34},\n",
       " {137: 5.1225463e-34},\n",
       " {138: 4.5465945e-34},\n",
       " {139: 4.687359e-34},\n",
       " {140: 4.9652353e-34},\n",
       " {141: 5.4262206e-34},\n",
       " {142: 5.7400886e-34},\n",
       " {143: 5.8213387e-34},\n",
       " {144: 4.5691796e-34},\n",
       " {145: 2.1214114e-34},\n",
       " {146: 5.8141117e-34},\n",
       " {147: 5.8008415e-34},\n",
       " {148: 5.5656067e-34},\n",
       " {149: 5.660604e-34},\n",
       " {150: 5.4420112e-34},\n",
       " {151: 0.18943216},\n",
       " {152: 4.674643e-34},\n",
       " {153: 5.8752337e-34},\n",
       " {154: 5.150652e-34},\n",
       " {155: 4.2631543e-34},\n",
       " {156: 4.6425727e-34},\n",
       " {157: 5.5888236e-34},\n",
       " {158: 5.658834e-34},\n",
       " {159: 5.0994727e-34},\n",
       " {160: 4.7851955e-34},\n",
       " {161: 5.870914e-34},\n",
       " {162: 3.800225e-34},\n",
       " {163: 5.6237698e-34},\n",
       " {164: 5.5161707e-34},\n",
       " {165: 4.1337365e-34},\n",
       " {166: 5.5871113e-34},\n",
       " {167: 5.6590204e-34},\n",
       " {168: 5.743075e-34},\n",
       " {169: 5.450587e-34},\n",
       " {170: 5.624939e-34},\n",
       " {171: 5.6547973e-34},\n",
       " {172: 5.8426252e-34},\n",
       " {173: 5.25905e-34},\n",
       " {174: 5.380459e-34},\n",
       " {175: 4.520679e-34},\n",
       " {176: 5.623606e-34},\n",
       " {177: 4.930205e-34},\n",
       " {178: 5.6270786e-34},\n",
       " {179: 5.7972934e-34},\n",
       " {180: 5.8439256e-34},\n",
       " {181: 5.2963207e-34},\n",
       " {182: 5.79666e-34},\n",
       " {183: 3.4903958e-34},\n",
       " {184: 5.674252e-34},\n",
       " {185: 5.36749e-34},\n",
       " {186: 5.241486e-34},\n",
       " {187: 5.8627055e-34},\n",
       " {188: 5.620659e-34},\n",
       " {189: 4.9205114e-34},\n",
       " {190: 4.737669e-34},\n",
       " {191: 5.366541e-34},\n",
       " {192: 5.585659e-34},\n",
       " {193: 0.23694646},\n",
       " {194: 3.9837155e-34},\n",
       " {195: 5.396342e-34},\n",
       " {196: 5.5277447e-34},\n",
       " {197: 5.7445615e-34},\n",
       " {198: 5.2161474e-34},\n",
       " {199: 3.4363968e-34}]"
      ]
     },
     "execution_count": 43,
     "metadata": {},
     "output_type": "execute_result"
    }
   ],
   "source": [
    "[{i : kernels[0][:,:,i].max() } for i in range(200)]"
   ]
  },
  {
   "cell_type": "code",
   "execution_count": 52,
   "id": "ca3e24c2-94b2-463f-8adc-08cf72a0b992",
   "metadata": {},
   "outputs": [
    {
     "data": {
      "text/plain": [
       "{'A': 0.25, 'C': 0.25, 'G': 0.25, 'T': 0.25}"
      ]
     },
     "execution_count": 52,
     "metadata": {},
     "output_type": "execute_result"
    }
   ],
   "source": [
    "DEFAULT_BASE_BACKGROUND"
   ]
  },
  {
   "cell_type": "code",
   "execution_count": 29,
   "id": "e9530826-92d8-4f82-81a1-1f9a9572a7c2",
   "metadata": {},
   "outputs": [
    {
     "data": {
      "text/plain": [
       "(19, 4, 200)"
      ]
     },
     "execution_count": 29,
     "metadata": {},
     "output_type": "execute_result"
    }
   ],
   "source": [
    "quasi_pwm = pssm_array2pwm_array(kernels[0], DEFAULT_BASE_BACKGROUND)\n",
    "kern = _pwm2pwm_info(quasi_pwm)\n",
    "kern.shape"
   ]
  },
  {
   "cell_type": "code",
   "execution_count": 53,
   "id": "81e1e8ae-477f-4fad-b7b6-4d1985cb5328",
   "metadata": {},
   "outputs": [
    {
     "data": {
      "text/plain": [
       "array([[5.91337681e-04, 6.25558023e-04, 6.13553741e-04, 6.92138157e-04],\n",
       "       [2.38609966e-04, 2.55900261e-04, 2.37146247e-04, 2.56350177e-04],\n",
       "       [4.47758590e-04, 5.06968354e-04, 4.53300163e-04, 4.55452537e-04],\n",
       "       [4.22585930e-04, 4.50905238e-04, 4.35992901e-04, 4.82827571e-04],\n",
       "       [5.59994020e-04, 6.39489503e-04, 5.79870131e-04, 6.37137855e-04],\n",
       "       [8.82004097e-04, 1.08519860e-03, 9.82874539e-04, 9.65947867e-04],\n",
       "       [3.22482083e-04, 3.27147223e-04, 3.04534886e-04, 2.95268372e-04],\n",
       "       [8.72834178e-04, 7.69759121e-04, 8.22382979e-04, 7.31978507e-04],\n",
       "       [2.26168148e-03, 2.06569931e-03, 2.17840029e-03, 2.76357541e-03],\n",
       "       [4.35819209e-04, 4.08318767e-04, 4.23859921e-04, 4.66497208e-04],\n",
       "       [3.53525323e-03, 3.42510757e-03, 4.74652136e-03, 3.40873678e-03],\n",
       "       [3.28336551e-04, 3.01152118e-04, 3.24077642e-04, 2.99442443e-04],\n",
       "       [1.59443560e-04, 1.56781534e-04, 1.61518954e-04, 1.69800827e-04],\n",
       "       [2.65501352e-04, 2.75145750e-04, 2.95939826e-04, 2.79092841e-04],\n",
       "       [4.55452464e-05, 4.68377802e-05, 4.48109968e-05, 4.59114490e-05],\n",
       "       [4.05446801e-04, 4.29551874e-04, 4.01620258e-04, 4.52576613e-04],\n",
       "       [7.62731128e-04, 9.21850384e-04, 8.21545720e-04, 8.51521792e-04],\n",
       "       [1.19026881e-04, 1.26283368e-04, 1.18446056e-04, 1.19875804e-04],\n",
       "       [5.81721579e-05, 5.94865523e-05, 5.73653815e-05, 6.00566200e-05]],\n",
       "      dtype=float32)"
      ]
     },
     "execution_count": 53,
     "metadata": {},
     "output_type": "execute_result"
    }
   ],
   "source": [
    "kern[:,:,193]"
   ]
  },
  {
   "cell_type": "code",
   "execution_count": 51,
   "id": "d0dd2657-4ae3-44aa-bd2c-e2acb9baf2cb",
   "metadata": {},
   "outputs": [
    {
     "data": {
      "image/png": "[encoded data removed]",
      "text/plain": [
       "<Figure size 576x288 with 1 Axes>"
      ]
     },
     "metadata": {
      "needs_background": "light"
     },
     "output_type": "display_data"
    }
   ],
   "source": [
    "fig = seqlogo_fig(kern[:,:,193], vocab=\"DNA\", figsize=(8,4), ncol=2, plot_name=\"filter: \")"
   ]
  },
  {
   "cell_type": "code",
   "execution_count": 54,
   "id": "36047a6b-5a35-4e0b-8bb9-0915d8bc084a",
   "metadata": {},
   "outputs": [
    {
     "data": {
      "text/plain": [
       "(177331, 500, 4)"
      ]
     },
     "execution_count": 54,
     "metadata": {},
     "output_type": "execute_result"
    }
   ],
   "source": [
    "X_train.shape"
   ]
  },
  {
   "cell_type": "markdown",
   "id": "e3a15867-4191-41bd-9748-441545f76cb8",
   "metadata": {},
   "source": [
    "# Get notmalized motifs"
   ]
  },
  {
   "cell_type": "code",
   "execution_count": 71,
   "id": "6196e02b-8917-4213-b5fd-40b6e8b70b91",
   "metadata": {},
   "outputs": [],
   "source": [
    "def GetMotifActivatedRegions( model, config,outDir, batch_size = 400):    \n",
    "    # Get a function to calculate the output of the convolution layer\n",
    "    conv_layer_model = Model(model.layers[0].input, model.get_layer(\"conv1d\").output)\n",
    "    \n",
    "    # Get the number of filters\n",
    "    nbfilters = int(model.get_layer(\"conv1d\").kernel.shape[2])\n",
    "    W  = model.get_layer(\"conv1d\").get_weights()\n",
    "    kernel_size = model.get_layer(\"conv1d\").kernel.shape[:2].as_list()\n",
    "    # Initialize the list of filters\n",
    "    kernel_motifs = {} #Dict.empty(key_type = types.float32, value_type= float_matrix)    \n",
    "    nbActive_per_kernel = {} #Dict.empty(key_type= types.float32, value_type=types.float32)\n",
    "    for i in range(nbfilters):\n",
    "        kernel_motifs[i] = np.zeros(kernel_size) \n",
    "        nbActive_per_kernel[i] = 0\n",
    "\n",
    "    kernel_size = kernel_size[0]\n",
    "    \n",
    "    data_loader = ConvATACseqDataLoader(config)\n",
    "    X_train, Y_train = data_loader.get_train_data()\n",
    "        \n",
    "        \n",
    "    dataset  = tf.data.Dataset.from_tensor_slices(X_train)\n",
    "    dataset = dataset.batch(batch_size)\n",
    "    \n",
    "    print(\"We have :\" + str(X_train.shape[0]/batch_size) + \" batches\")\n",
    "    import pdb; pdb.set_trace()\n",
    "    # Process by batch        \n",
    "    for step, x_batch in enumerate(dataset):            \n",
    "          print(step)\t\n",
    "          out = conv_layer_model(x_batch).numpy()\n",
    "          s = step * batch_size\n",
    "          e = min( (step+1) * batch_size, X_train.shape[0])\n",
    "          # for each filter get max activation score\n",
    "\n",
    "          print(\"calculating the motifs of the activated regions\")\n",
    "          #kernel_motifs, nbActive_per_kernel = calcMotifActivation(nbfilters,W,out, input['sequences'][s:e],kernel_motifs,nbActive_per_kernel,kernel_size)\n",
    "          for fltr in tqdm(range(nbfilters)):\n",
    "            threshold = 0 # (sum(np.amax(W[0][:,:,fltr], axis=1))+ W[1][fltr]) * 0.8\n",
    "            #logfile.write(\"-----------------\")\n",
    "            #logfile.write(\"Step:%d filter:%d threshold:%s\\n\" % (step, fltr,str(threshold)))\n",
    "            if(threshold <=0):                 \n",
    "                 continue\n",
    "            # for each window check the regions that are activated\n",
    "            for seq_id in range(out.shape[0]):\n",
    "                seq_num = s + seq_id\n",
    "                #threshold = max(conv_output[seq_num,:,fltr]) * 0.9\n",
    "                which_active = np.argwhere(out[seq_id,:,fltr] > threshold)\n",
    "                #logfile.write(\"Step:%d filter:%d sequence:%d nbActive:%d\\n\" % (step, fltr, seq_id, len(which_active)))\n",
    "                if len(which_active) >0:\n",
    "                    # sum all the activate sequences\n",
    "                    for pos in which_active:\n",
    "                        pos = int(pos)\n",
    "                        #if pos <= input['sequences'][seq_num].shape[0] - kernel_size:\n",
    "                        hot_seq = X_train[seq_num][pos:(pos+kernel_size)]\n",
    "                        kernel_motifs[fltr ] += hot_seq\n",
    "                        nbActive_per_kernel[fltr] += 1\n",
    "\n",
    "\n",
    "    #conv_output = conv_layer_model.predict(input['sequences'][:4000], batch_size = 200, verbose=1)\n",
    "    #conv_output = np.concatenate(conv_output,0)\n",
    "\n",
    "    # calculate the mean motifs\n",
    "    print(\"Calculating means\")\n",
    "    kernel_motifs_mean = {}\n",
    "    for fltr in range(len(kernel_motifs)):\n",
    "        if nbActive_per_kernel[fltr] >0:\n",
    "             kernel_motifs_mean[fltr] = kernel_motifs[fltr]/nbActive_per_kernel[fltr]\n",
    "\n",
    "    # save results as picle \n",
    "    pkl_out = open(f'{outDir}/kernel_motifs_mean.pickle',\"wb\")\n",
    "    pickle.dump(kernel_motifs_mean,file=pkl_out)\n",
    "\n",
    "    pkl_out = open(f'{outDir}/kernel_motifs.pickle','wb')\n",
    "    pickle.dump(kernel_motifs, pkl_out)\n",
    "    pkl_out.close()\n",
    "\n",
    "    pkl_out = open(f'{outDir}/nbActive_per_kernel.pickle','wb')\n",
    "    pickle.dump(nbActive_per_kernel, pkl_out)\n",
    "    pkl_out.close()"
   ]
  },
  {
   "cell_type": "code",
   "execution_count": 58,
   "id": "eea736e7-60ff-4614-805e-4df6988fbd89",
   "metadata": {},
   "outputs": [],
   "source": [
    "from pathlib import Path"
   ]
  },
  {
   "cell_type": "code",
   "execution_count": 59,
   "id": "2b5674d3-e0bc-4d98-9e0d-2cf59e42bbf5",
   "metadata": {},
   "outputs": [],
   "source": [
    "Path(\"experiments/2021-08-22/conv_atac_from_config/motifs\").mkdir()"
   ]
  },
  {
   "cell_type": "code",
   "execution_count": null,
   "id": "9aece074-1708-4f3c-aa2d-423e04f1aa8f",
   "metadata": {},
   "outputs": [
    {
     "data": {
      "text/html": [
       "<pre style=\"white-space:pre;overflow-x:auto;line-height:normal;font-family:Menlo,'DejaVu Sans Mono',consolas,'Courier New',monospace\">Loading training data <span style=\"color: #808000; text-decoration-color: #808000\">...</span>\n",
       "</pre>\n"
      ],
      "text/plain": [
       "Loading training data \u001b[33m...\u001b[0m\n"
      ]
     },
     "metadata": {},
     "output_type": "display_data"
    },
    {
     "name": "stderr",
     "output_type": "stream",
     "text": [
      "100%|███████████████████████████████████████████████████████████████████████████████████████████████████████████████████████████| 177331/177331 [00:12<00:00, 14240.14it/s]\n"
     ]
    },
    {
     "data": {
      "text/html": [
       "<pre style=\"white-space:pre;overflow-x:auto;line-height:normal;font-family:Menlo,'DejaVu Sans Mono',consolas,'Courier New',monospace\"><span style=\"color: #800000; text-decoration-color: #800000; font-weight: bold\">Loaded </span><span style=\"color: #800000; text-decoration-color: #800000; font-weight: bold\">177331</span><span style=\"color: #800000; text-decoration-color: #800000; font-weight: bold\"> sequences.</span>\n",
       "</pre>\n"
      ],
      "text/plain": [
       "\u001b[1;31mLoaded \u001b[0m\u001b[1;31m177331\u001b[0m\u001b[1;31m sequences.\u001b[0m\n"
      ]
     },
     "metadata": {},
     "output_type": "display_data"
    },
    {
     "data": {
      "text/html": [
       "<pre style=\"white-space:pre;overflow-x:auto;line-height:normal;font-family:Menlo,'DejaVu Sans Mono',consolas,'Courier New',monospace\">Hot-encoding.\n",
       "</pre>\n"
      ],
      "text/plain": [
       "Hot-encoding.\n"
      ]
     },
     "metadata": {},
     "output_type": "display_data"
    }
   ],
   "source": [
    "res= GetMotifActivatedRegions(model,config,batch_size=400,outDir=\"experiments/2021-08-22/conv_atac_from_config/motifs\")"
   ]
  }
 ],
 "metadata": {
  "kernelspec": {
   "display_name": "Python 3 (ipykernel)",
   "language": "python",
   "name": "python3"
  },
  "language_info": {
   "codemirror_mode": {
    "name": "ipython",
    "version": 3
   },
   "file_extension": ".py",
   "mimetype": "text/x-python",
   "name": "python",
   "nbconvert_exporter": "python",
   "pygments_lexer": "ipython3",
   "version": "3.7.9"
  }
 },
 "nbformat": 4,
 "nbformat_minor": 5
}
